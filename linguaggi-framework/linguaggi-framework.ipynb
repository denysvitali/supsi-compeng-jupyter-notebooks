{
 "cells": [
  {
   "cell_type": "markdown",
   "metadata": {},
   "source": [
    "# Linguaggi e Framework\n",
    "  \n",
    "Course: M02056.2 - C02046.2 - Approfondimento linguaggi e framework  \n",
    "Teacher: Amos Brocco"
   ]
  },
  {
   "cell_type": "markdown",
   "metadata": {},
   "source": [
    "## Introduzione"
   ]
  },
  {
   "cell_type": "code",
   "execution_count": null,
   "metadata": {},
   "outputs": [],
   "source": [
    "#include <iostream>\n",
    "using namespace std;\n",
    "cout << \"Test\";"
   ]
  },
  {
   "cell_type": "code",
   "execution_count": null,
   "metadata": {},
   "outputs": [],
   "source": [
    "#include <iostream>\n",
    "using namespace std;\n",
    "cout << \"Hello World!\" << endl;"
   ]
  },
  {
   "cell_type": "markdown",
   "metadata": {},
   "source": [
    "## Namespaces"
   ]
  },
  {
   "cell_type": "code",
   "execution_count": 3,
   "metadata": {},
   "outputs": [
    {
     "name": "stderr",
     "output_type": "stream",
     "text": [
      "\u001b[1minput_line_11:2:9: \u001b[0m\u001b[0;1;31merror: \u001b[0m\u001b[1mredefinition of 'multiply'\u001b[0m\n",
      "    int multiply(int a, int b){\n",
      "\u001b[0;1;32m        ^\n",
      "\u001b[0m\u001b[1minput_line_8:2:9: \u001b[0m\u001b[0;1;30mnote: \u001b[0mprevious definition is here\u001b[0m\n",
      "    int multiply(int a, int b){\n",
      "\u001b[0;1;32m        ^\n",
      "\u001b[0m\u001b[1minput_line_11:7:9: \u001b[0m\u001b[0;1;31merror: \u001b[0m\u001b[1mredefinition of 'multiply'\u001b[0m\n",
      "    int multiply(int a, int b){\n",
      "\u001b[0;1;32m        ^\n",
      "\u001b[0m\u001b[1minput_line_8:7:9: \u001b[0m\u001b[0;1;30mnote: \u001b[0mprevious definition is here\u001b[0m\n",
      "    int multiply(int a, int b){\n",
      "\u001b[0;1;32m        ^\n",
      "\u001b[0m\u001b[1minput_line_11:12:5: \u001b[0m\u001b[0;1;31merror: \u001b[0m\u001b[1mredefinition of 'main'\u001b[0m\n",
      "int main(){\n",
      "\u001b[0;1;32m    ^\n",
      "\u001b[0m\u001b[1minput_line_8:12:5: \u001b[0m\u001b[0;1;30mnote: \u001b[0mprevious definition is here\u001b[0m\n",
      "int main(){\n",
      "\u001b[0;1;32m    ^\n",
      "\u001b[0m"
     ]
    }
   ],
   "source": [
    "#include <iostream>\n",
    "\n",
    "namespace ns {\n",
    "    int multiply(int a, int b){\n",
    "        return a * b;\n",
    "    }\n",
    "}\n",
    "\n",
    "namespace fakens {\n",
    "    int multiply(int a, int b){\n",
    "        return a + b;\n",
    "    }\n",
    "}\n",
    "\n",
    "\n",
    "using namespace std;\n",
    "\n",
    "int main(){\n",
    "    cout << \"Hello\" << endl;\n",
    "    \n",
    "    int res1 = fakens::multiply(5, 10);\n",
    "    int res2 = ns::multiply(5, 10);\n",
    "\n",
    "    cout << \"Res 1: \" << res1 << endl;\n",
    "    cout << \"Res 2: \" << res2 << endl;\n",
    "    \n",
    "    return 0;\n",
    "}"
   ]
  },
  {
   "cell_type": "code",
   "execution_count": 2,
   "metadata": {},
   "outputs": [
    {
     "name": "stdout",
     "output_type": "stream",
     "text": [
      "10, 9, 8, 7, 6, 5, 4, 3, 2, 1, END\n"
     ]
    }
   ],
   "source": [
    "using namespace std;\n",
    "for (int n=10; n>0; n--)\n",
    "{\n",
    "    cout << n << \", \";\n",
    "}\n",
    "cout << \"END\" << endl;"
   ]
  },
  {
   "cell_type": "code",
   "execution_count": null,
   "metadata": {},
   "outputs": [],
   "source": []
  }
 ],
 "metadata": {
  "kernelspec": {
   "display_name": "xeus C++11",
   "language": "",
   "name": "xeus-cling-cpp11"
  },
  "language_info": {
   "codemirror_mode": "text/x-c++src",
   "file_extension": ".cpp",
   "mimetype": "text/x-c++src",
   "name": "c++",
   "version": ""
  }
 },
 "nbformat": 4,
 "nbformat_minor": 2
}
