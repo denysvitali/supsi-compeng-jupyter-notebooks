{
 "cells": [
  {
   "cell_type": "markdown",
   "metadata": {},
   "source": [
    "# Serie 8\n",
    "## Esercizio 1"
   ]
  },
  {
   "cell_type": "markdown",
   "metadata": {},
   "source": [
    "### Notify / Wait\n",
    "Al fine di implementare l'idioma di `notify` e `wait` ho cambiato il codice in modo da inserire una variabile atomica (`tc`) che indichi il numero di thread che hanno terminato il loro lavoro. I thread che hanno completato vengono messi in attesa `wait()`, per poi venire successivamente risvegliati da un `notify`."
   ]
  },
  {
   "cell_type": "markdown",
   "metadata": {},
   "source": [
    "```java\n",
    "while(m_tc != 10 && status != 1){\n",
    "    m_tc = tc.get();\n",
    "    synchronized (this) {\n",
    "        try {\n",
    "            this.wait();\n",
    "        } catch (InterruptedException e) {\n",
    "            e.printStackTrace();\n",
    "        }\n",
    "    }\n",
    "}\n",
    "\n",
    "if(status == 0){\n",
    "    synchronized (this){\n",
    "        status++;\n",
    "    }\n",
    "    System.out.println(\"Called only once\");\n",
    "    tc.set(0);\n",
    "    for(Thread t : tal){\n",
    "        synchronized (t){\n",
    "            t.notify();\n",
    "        }\n",
    "    }\n",
    "}\n",
    "```"
   ]
  }
 ],
 "metadata": {
  "kernelspec": {
   "display_name": "Java",
   "language": "java",
   "name": "java"
  },
  "language_info": {
   "codemirror_mode": "java",
   "file_extension": ".java",
   "mimetype": "text/x-java-source",
   "name": "Java",
   "pygments_lexer": "java",
   "version": "10.0.1+10"
  }
 },
 "nbformat": 4,
 "nbformat_minor": 2
}
