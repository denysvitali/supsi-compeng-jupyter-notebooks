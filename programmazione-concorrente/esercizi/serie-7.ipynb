{
 "cells": [
  {
   "cell_type": "markdown",
   "metadata": {},
   "source": [
    "# Serie 7\n",
    "## Esercizio 1"
   ]
  },
  {
   "cell_type": "markdown",
   "metadata": {},
   "source": [
    "### Problema\n",
    "Il problema di questo esercizio sta nell'accesso concorrente ad una Map condivisa. La motivazione è la mutabilità dell'oggetto.  \n",
    "Alla rimozione di un elemento il cambiamento non viene propagato a tutti i thread, e si può quindi verificare una Concurrent Modification Exception.  \n",
    "  \n",
    "Per ovviare al problema possiamo utilizzare dei blocchi synchronized, oppure sfruttare delle ConcurrentHashMap\n",
    "\n",
    "### Risoluzione\n",
    "\n",
    "#### Versione a - Uso dei blocchi synchronized\n",
    "Utilizzando dei blocchi `synchronized` possiamo evitare le Concurrent Modification Exception:\n",
    "```java\n",
    "if (counter == 0) {\n",
    "    synchronized(sharedMap) {\n",
    "        if (sharedMap.containsKey(key)\n",
    "                && sharedMap.get(key).equals(int1)) {\n",
    "            sharedMap.remove(key);\n",
    "            log(\"{\" + key + \"} remove 1\");\n",
    "        }\n",
    "    }\n",
    "}\n",
    "```"
   ]
  },
  {
   "cell_type": "markdown",
   "metadata": {},
   "source": [
    "#### Versione b - Uso di ConcurrentHashMap\n",
    "Utilizzando invece una ConcurrentHashMap e sostituendo i metodi `containsKey` con il rispettivo `get(key) != null` possiamo rendere l'accesso e la modifica della HashMap thread-safe.\n",
    "```java\n",
    "private final static Map<String, Integer> sharedMap = new ConcurrentHashMap<String, Integer>();\n",
    "// ...\n",
    "while (--cnt > 0) {\n",
    "    final String key = getClass().getSimpleName()\n",
    "            + random.nextInt(S7Esercizio1.NUM_WORKERS);\n",
    "    updateCounter(random.nextBoolean());\n",
    "\n",
    "    if (counter == 0) {\n",
    "            if (sharedMap.get(key) != null\n",
    "                    && sharedMap.get(key).equals(int1)) {\n",
    "                sharedMap.remove(key);\n",
    "                log(\"{\" + key + \"} remove 1\");\n",
    "            }\n",
    "    }\n",
    "    // ...\n",
    "}\n",
    "```"
   ]
  },
  {
   "cell_type": "markdown",
   "metadata": {},
   "source": [
    "## Esercizio 2\n",
    "### Problema\n",
    "Il problema si verifica durante l'accesso multi-thread all'iteratore di `S7Esercizio2.sharedPhase` in quanto l'oggetto è *mutable*. Può quindi capitare che durante l'accesso concorrente la collection venga iterata su valori non più esistenti: ad esempio`iterator.hasNext()` ritorna true, avviene un context-switch, la collection viene modificata (e.g: un elemento viene rimosso), si rientra nel contesto dell'iteratore e si chiama `iterattor.next()` che lancia un eccezione in quanto `iterator.hasNext()` sarebbe false dopo la modifica.\n",
    "\n",
    "## Risoluzione\n",
    "### Utilizzo di *synchronized blocks*\n",
    "Il problema può essere facilmente risolto utilizzando un blocco `synchronized` nella fase di iterazione e di aggiunta di elementi. In questo modo possiamo assicurarci che non avvengano context-switch fra `iterator.hasNext()` e `iterator.next()`.  \n",
    "Questa soluzione, seppur funzionante, risulta però inefficiente.\n",
    "\n",
    "```java\n",
    "// Synchronized sull'iterazione\n",
    "synchronized(S7Esercizio2.sharedPhrase) {\n",
    "    final Iterator<String> iterator = S7Esercizio2.sharedPhrase.iterator();\n",
    "    while (iterator.hasNext()) {\n",
    "        sb.append(iterator.next());\n",
    "        sb.append(\" \");\n",
    "    }\n",
    "}\n",
    "```\n",
    "\n",
    "```java\n",
    "// Synchronized sull'aggiunta degli elementi\n",
    "for (int i = 0; i < 10; i++) {\n",
    "    synchronized (S7Esercizio2.sharedPhrase) {\n",
    "        S7Esercizio2.sharedPhrase.add(getWord());\n",
    "    }\n",
    "    try {\n",
    "        Thread.sleep(1000);\n",
    "    } catch (final InterruptedException e) {\n",
    "        e.printStackTrace();\n",
    "    }\n",
    "}\n",
    "```"
   ]
  },
  {
   "cell_type": "markdown",
   "metadata": {},
   "source": [
    "### Utilizzo di Synchronized Collections\n",
    "Sfruttando il metodo delle *synchronized collections* possiamo eliminare il blocco `synchronized` nell'aggiunta degli elementi.  \n",
    "\n",
    "Modifichiamo la dichiarazione di sharePhrase come segue:\n",
    "```java\n",
    "S7Esercizio2.sharedPhrase = Collections.synchronizedList(list);\n",
    "```\n",
    "  \n",
    "e modifichiamo l'iterazione nel seguente modo:\n",
    "\n",
    "```java\n",
    "synchronized (S7Esercizio2.sharedPhrase) {\n",
    "    for (final Iterator iterator = S7Esercizio2.sharedPhrase.iterator(); iterator.hasNext(); ) {\n",
    "        final String string = (String) iterator.next();\n",
    "        sb.append(string);\n",
    "        sb.append(\" \");\n",
    "    }\n",
    "}\n",
    "```"
   ]
  },
  {
   "cell_type": "markdown",
   "metadata": {},
   "source": [
    "### Utilizzo di Concurrent Collections\n",
    "Sfruttando le concurrent collections possiamo rendere più efficiente il nostro programma, mantenendo la thread safety necessaria.  \n",
    "Per farlo utilizziamo una `CopyOnWriteArrayList` nel modo seguente:  \n",
    "```java\n",
    "static volatile List<String> sharedPhrase;\n",
    "// ...\n",
    "S7Esercizio2.sharedPhrase = new CopyOnWriteArrayList<>(list);\n",
    "```\n",
    "\n",
    "aggiungendo gli elementi senza blocchi synchronized ed iterando normalmente con un *for each*:  \n",
    "```java\n",
    "for (String s : S7Esercizio2.sharedPhrase) {\n",
    "    sb.append(s);\n",
    "    sb.append(\" \");\n",
    "}\n",
    "```"
   ]
  }
 ],
 "metadata": {
  "kernelspec": {
   "display_name": "Java",
   "language": "java",
   "name": "java"
  },
  "language_info": {
   "codemirror_mode": "java",
   "file_extension": ".java",
   "mimetype": "text/x-java-source",
   "name": "Java",
   "pygments_lexer": "java",
   "version": "10.0.1+10"
  }
 },
 "nbformat": 4,
 "nbformat_minor": 2
}
