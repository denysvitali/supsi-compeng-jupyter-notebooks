{
 "cells": [
  {
   "cell_type": "markdown",
   "metadata": {},
   "source": [
    "# Serie 6\n",
    "## Esercizio 1 \n",
    "### Problema\n",
    "Il problema (ID inconsistente) è causato dal `this` inserito nel costruttore di `EventListener`. La referenza `this` infatti non è valida nel caso in cui l'oggetto viene creato per metà (context switch).  "
   ]
  },
  {
   "cell_type": "markdown",
   "metadata": {},
   "source": [
    "```java\n",
    "public EventListener(final int id, final EventSource eventSource) {\n",
    "\t\teventSource.registerListener(id, this); \n",
    "        // Il `this` in questo punto potrebbe riferirsi ad \n",
    "        // un oggetto in uno stato inconsistente (!)\n",
    "\t\ttry {\n",
    "\t\t\tThread.sleep(4);\n",
    "\t\t} catch (final InterruptedException e) {}\n",
    "\t\tthis.id = id;\n",
    "\t}\n",
    "```"
   ]
  },
  {
   "cell_type": "markdown",
   "metadata": {},
   "source": [
    "### Risoluzione\n",
    "Per risolvere il problema è possibile effettuare la registrazione dell'evento una volta inizializzato l'oggetto (in questo modo siamo sicuri che il costruttore ha completato il suo lavoro in modo corretto)."
   ]
  },
  {
   "cell_type": "markdown",
   "metadata": {},
   "source": [
    "```java\n",
    "class EventListener {\n",
    "\tprivate final int id;\n",
    "\n",
    "\tpublic EventListener(final int id, final EventSource eventSource) {\n",
    "\t\ttry {\n",
    "\t\t\tThread.sleep(4);\n",
    "\t\t} catch (final InterruptedException e) {}\n",
    "\t\tthis.id = id;\n",
    "\t}\n",
    "\n",
    "\tpublic void register(EventSource es){\n",
    "\t\tif(es != null){\n",
    "\t\t\tes.registerListener(id, this);\n",
    "\t\t}\n",
    "\t}\n",
    "\n",
    "    // ...\n",
    "}\n",
    "```"
   ]
  },
  {
   "cell_type": "markdown",
   "metadata": {},
   "source": [
    "Possiamo ora inizializzare gli `EventListener` nel for-loop e registrarli alla sorgente di eventi una volta che questi sono stati istanziati (e che quindi si trovano in uno stato consistente:\n",
    "```java\n",
    "final List<EventListener> allListeners = new ArrayList<>();\n",
    "for (int i = 1; i <= 20; i++) {\n",
    "    EventListener el = new EventListener(i, eventSource);\n",
    "    el.register(eventSource);\n",
    "    allListeners.add(el);\n",
    "}\n",
    "```"
   ]
  },
  {
   "cell_type": "markdown",
   "metadata": {},
   "source": [
    "## Esercizio 2\n",
    "### Problema\n",
    "Innanzitutto si verifica un problema di visibilità, in quanto `sharedState` non è volatile, di conseguenza il suo stato è differente fra i thread.  \n",
    "Inoltre, si presenta un problema race condition con l'istanza di SharedState che esegue un operazione di incremento in modo non atomico.  \n",
    "\n",
    "### Risoluzione\n",
    "Dobbiamo innanzitutto rendere `sharedState` volatile:\n",
    "```java\n",
    "static volatile IState sharedState = null;\n",
    "```\n",
    "successivamente dobbiamo sistemare la race condition. Per farlo senza toccare le classi `SharedState` e `ThreadSafeSharedState` possiamo usare un `synchronized` sulle chiamate alle funzioni di `increment` e `getValue`, ma questo comporterrebbe un overhead inutile in caso si usi `ThreadSafeSharedState`.  \n",
    "Per ovviare al problema possiamo usare un Holder in modo da rendere l'oggetto thread safe:\n",
    "```java\n",
    "// Choose which share to instantiate\n",
    "if (S6Esercizio2.THREADSAFE_SHARE) {\n",
    "    S6Esercizio2.sharedState = new ThreadSafeSharedState();\n",
    "} else {\n",
    "    S6Esercizio2.sharedState = new Synchronize(new SharedState());\n",
    "}\n",
    "```"
   ]
  },
  {
   "cell_type": "markdown",
   "metadata": {},
   "source": [
    "## Holder degli oggetti Immutable\n",
    "Una soluzione però più efficiente risulta essere quella di utilizzare un holder di oggetti immutable, ossia avere una classe `Holder` che, ad ogni cambiamento di variabile ritorni una nuova istanza di se stessa. In questo modo possiamo sapere per certo che se l'indirizzo puntato è cambiato anche il suo stato è variato.  \n",
    "```java\n",
    "final class ImmutableSharedState implements IState {\n",
    "\n",
    "\tprivate int value = 0;\n",
    "\n",
    "\tpublic ImmutableSharedState(int value){\n",
    "\t\tthis.value = value;\n",
    "\t}\n",
    "\n",
    "\t@Override\n",
    "\tpublic void increment() {\n",
    "        // Should never be called!\n",
    "\t}\n",
    "\n",
    "\t@Override\n",
    "\tpublic int getValue() {\n",
    "\t\treturn value;\n",
    "\t}\n",
    "}\n",
    "```"
   ]
  },
  {
   "cell_type": "markdown",
   "metadata": {},
   "source": [
    "Possiamo quindi trasformare l'istanziazione ed il for-loop come segue:\n",
    "```java\n",
    "S6Esercizio2_HIO.sharedState = new ImmutableSharedState();\n",
    "\n",
    "// Sleep before updating\n",
    "try {\n",
    "    Thread.sleep(1000);\n",
    "} catch (final InterruptedException e) {\n",
    "}\n",
    "\n",
    "// Perform 5000 increments and exit\n",
    "System.out.println(\"Starter : begin incrementing\");\n",
    "for (int i = 0; i < 5000; i++) {\n",
    "    S6Esercizio2_HIO.sharedState = new ImmutableSharedState(\n",
    "        S6Esercizio2_HIO.sharedState.getValue() + 1\n",
    "    );\n",
    "    if ((i % 100) == 0) {\n",
    "        try {\n",
    "            Thread.sleep(1);\n",
    "        } catch (final InterruptedException e) { }\n",
    "    }\n",
    "}\n",
    "System.out.println(\"Starter : completed\");\n",
    "```"
   ]
  },
  {
   "cell_type": "markdown",
   "metadata": {},
   "source": [
    "## Esercizio 3\n",
    "Personalmente avrei reso `ExchangeRates` immutable, però mi sono reso conto che nella serie precedente avevo già utilizzato questa tecnica.  \n",
    "Ritengo dunque che il codice non sia migliorabile ulteriormente.\n",
    "\n",
    "```java\n",
    "public volatile ExchangeRates currentER;\n",
    "\n",
    "private ExchangeRates generateRandomER() {\n",
    "    double[] er = new double[ExchangeRates.size];\n",
    "    for(int i = 0; i<ExchangeRates.size; i++){\n",
    "        er[i] = Math.random() + 0.5;\n",
    "    }\n",
    "    return new ExchangeRates(er);\n",
    "}\n",
    "\n",
    "public void getNewExchangeRates() {\n",
    "    System.out.println(\"Getting new exchange rates!\");\n",
    "    readWriteLock.readLock().lock();\n",
    "    currentER = generateRandomER();\n",
    "    System.out.println(\"New ER: \" + currentER);\n",
    "    readWriteLock.readLock().unlock();\n",
    "}\n",
    "```"
   ]
  },
  {
   "cell_type": "markdown",
   "metadata": {},
   "source": [
    "## Esercizio 4"
   ]
  },
  {
   "cell_type": "markdown",
   "metadata": {},
   "source": [
    "Il problema è causato da `synchronized` su `occupaBagno(final boolean uomo)` che accoda i 45 ms di `Thread.sleep` alla chiamata del metodo.  \n",
    "Per risolvere il problema è sufficiente piazzare i blocchi synchronized nel modo corretto. Inoltre, per migliorare le performances è possibile usare uno stack in modo da evitare inutili controlli sui bagni.  \n",
    "  \n",
    "```java\n",
    "private final Stack<Bagno> bagniUomini;\n",
    "private final Stack<Bagno> bagniDonne;\n",
    "// ...\n",
    "public boolean occupaBagno(final boolean uomo) {\n",
    "    Bagno bagnoOccupato = null;\n",
    "\n",
    "    synchronized (this) {\n",
    "        if (uomo) {\n",
    "            // Cerca primo bagno libero per uomini\n",
    "            if (bagniUomini.empty()) {\n",
    "                return false;\n",
    "            }\n",
    "\n",
    "            Bagno bagno = bagniUomini.peek();\n",
    "            while (!bagniUomini.empty() && !bagno.provaOccupare()) {\n",
    "                bagno = bagniUomini.pop();\n",
    "            }\n",
    "\n",
    "            bagnoOccupato = bagno;\n",
    "        } else {\n",
    "            // Same for women\n",
    "            // ...\n",
    "        }\n",
    "   }\n",
    "   \n",
    "   // tutti i bagni sono occupati!\n",
    "    if (bagnoOccupato == null) {\n",
    "        return false;\n",
    "    }\n",
    "\n",
    "    try {\n",
    "        Thread.sleep(45);\n",
    "    } catch (final InterruptedException e) {\n",
    "        e.printStackTrace();\n",
    "    }\n",
    "\n",
    "    synchronized (this) {\n",
    "        // Libera bagno\n",
    "        bagnoOccupato.libera();\n",
    "        if (uomo) {\n",
    "            bagniUomini.push(bagnoOccupato);\n",
    "        } else {\n",
    "            bagniDonne.push(bagnoOccupato);\n",
    "        }\n",
    "    }\n",
    "\n",
    "    return true;\n",
    "}\n",
    "```"
   ]
  }
 ],
 "metadata": {
  "kernelspec": {
   "display_name": "Java",
   "language": "java",
   "name": "java"
  },
  "language_info": {
   "codemirror_mode": "java",
   "file_extension": ".java",
   "mimetype": "text/x-java-source",
   "name": "Java",
   "pygments_lexer": "java",
   "version": "10.0.1+10"
  }
 },
 "nbformat": 4,
 "nbformat_minor": 2
}
