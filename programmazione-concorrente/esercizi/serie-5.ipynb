{
 "cells": [
  {
   "cell_type": "markdown",
   "metadata": {},
   "source": [
    "# Serie 5\n",
    "## Esercizio 1\n",
    "In questo caso specifico è possibile utilizzare la tecnica di *one writer - many readers* in quanto il thread che modifica la variabile è solamente uno (il Main Thread). Utilizzare quindi dei lock per vietare la scrittura impatta le performances del nostro software.  \n",
    "Cambiamo quindi il codice per utilizzare una variabile locale durante i confronti e rendiamo `volatile` il campo statico `sharedValue`."
   ]
  },
  {
   "cell_type": "code",
   "execution_count": 1,
   "metadata": {},
   "outputs": [
    {
     "name": "stdout",
     "output_type": "stream",
     "text": [
      "Reader0: (0 == 0)\n"
     ]
    }
   ],
   "source": [
    "import java.util.concurrent.atomic.AtomicBoolean;\n",
    "\n",
    "public class Esercizio1 {\n",
    "\n",
    "\tfinal static AtomicBoolean isRunning = new AtomicBoolean(true);\n",
    "\tstatic volatile int sharedValue = 0;   \n",
    "}\n",
    "\n",
    "private final int id;\n",
    "private int localValue;\n",
    "\n",
    "int local = Esercizio1.sharedValue;\n",
    "if (local != localValue) {\n",
    "    localValue = local;\n",
    "}\n",
    "else {\n",
    "    System.out.println(\"Reader\" + id + \": (\" + localValue\n",
    "            + \" == \" + Esercizio1.sharedValue + \")\");\n",
    "}"
   ]
  },
  {
   "cell_type": "markdown",
   "metadata": {},
   "source": [
    "## Esercizio 2\n",
    "Il problema sta nel fatto che l'oggetto della posizione corrente continua a cambiare, dunque durante il calcolo della distanza potrebbe capitare che le sue componenti non siano più identiche a quelle presenti nell'oggetto quando è stata chiamata la funzione di calcolo della distanza.\n",
    "Per risolvere il problema possiamo rendere i campi di Coordinate come `private` e `final`, ed impedire che questi possano essere cambiati dall'esterno della classe stessa.  \n",
    "In breve: rendiamo la classe immutabile e ricreiamo l'oggetto ogni qualvolta vogliamo cambiarlo. Infine rendiamo il campo `curLocation` di `Esercizio2` come `volatile`, in modo da avere sempre \"l'ultimissima versione\"."
   ]
  },
  {
   "cell_type": "code",
   "execution_count": 2,
   "metadata": {},
   "outputs": [],
   "source": [
    "class Coordinate {\n",
    "\tprivate final double lat;\n",
    "\tprivate final double lon;\n",
    "\t\n",
    "\tCoordinate(double lat, double lon){\n",
    "\t\tthis.lat = lat;\n",
    "\t\tthis.lon = lon;\n",
    "\t}\n",
    "    \n",
    "    // ...\n",
    "}\n",
    "\n",
    "public class Esercizio2 {\n",
    "\tstatic boolean completed = false;\n",
    "\tstatic volatile Coordinate curLocation = null;\n",
    "    // ...\n",
    "}"
   ]
  }
 ],
 "metadata": {
  "kernelspec": {
   "display_name": "Java",
   "language": "java",
   "name": "java"
  },
  "language_info": {
   "codemirror_mode": "java",
   "file_extension": ".java",
   "mimetype": "text/x-java-source",
   "name": "Java",
   "pygments_lexer": "java",
   "version": "10+46"
  }
 },
 "nbformat": 4,
 "nbformat_minor": 2
}
