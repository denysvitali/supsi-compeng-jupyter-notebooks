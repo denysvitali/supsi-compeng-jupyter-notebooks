{
 "cells": [
  {
   "cell_type": "markdown",
   "metadata": {},
   "source": [
    "# Serie 4"
   ]
  },
  {
   "cell_type": "markdown",
   "metadata": {},
   "source": [
    "## Esercizio 1"
   ]
  },
  {
   "cell_type": "markdown",
   "metadata": {},
   "source": [
    "### Lock Espliciti\n",
    "Trasformando la classe `ExplicitLocks` ed aggiungendo un campo statico `lock` possiamo sfruttare le funzionalità di *Lock espliciti*. Nel caso specifico, aggiungendo un explicit lock al metodo `increment()` ed al metodo `getValue()` possiamo assicurarci che le operazioni di lettura / scrittura sono *thread safe*."
   ]
  },
  {
   "cell_type": "code",
   "execution_count": 3,
   "metadata": {},
   "outputs": [],
   "source": [
    "import java.util.concurrent.locks.Lock;\n",
    "import java.util.concurrent.locks.ReentrantLock;\n",
    "\n",
    "public class ExplicitLocks {\n",
    "\tprivate static long value = 0;\n",
    "\tpublic static Lock lock = new ReentrantLock();\n",
    "    public static long increment() {\n",
    "\t\tExplicitLocks.lock.lock();\n",
    "\t\tvalue++;\n",
    "\t\ttry {\n",
    "\t\t\tThread.sleep(10);\n",
    "\t\t} catch (final InterruptedException e) {}\n",
    "\t\tlong rval = value;\n",
    "\t\tExplicitLocks.lock.unlock();\n",
    "\t\treturn rval;\n",
    "\t}\n",
    "\n",
    "\tpublic static long getValue() {\n",
    "\t\tExplicitLocks.lock.lock();\n",
    "\t\ttry {\n",
    "\t\t\tThread.sleep(1);\n",
    "\t\t} catch (final InterruptedException e) { }\n",
    "\t\tlong rval = value;\n",
    "\t\tExplicitLocks.lock.unlock();\n",
    "\t\treturn rval;\n",
    "\t}\n",
    "    // ...\n",
    "}"
   ]
  },
  {
   "cell_type": "markdown",
   "metadata": {},
   "source": [
    "### Read-Write locks\n",
    "Con l'utilizzo dei `ReadWrite` locks possiamo rendere l'accesso a `value` ancora più efficiente, mantenendo sempre la thread safety di cui necessita."
   ]
  },
  {
   "cell_type": "code",
   "execution_count": 4,
   "metadata": {},
   "outputs": [],
   "source": [
    "import java.util.concurrent.locks.ReadWriteLock;\n",
    "import java.util.concurrent.locks.ReentrantReadWriteLock;\n",
    "\n",
    "public class RWLocks {\n",
    "\tprivate static long value = 0;\n",
    "\tpublic static ReadWriteLock lock = new ReentrantReadWriteLock();\n",
    "\n",
    "\tpublic static long increment() {\n",
    "\t\tlock.writeLock().lock();\n",
    "\t\tvalue++;\n",
    "\t\tlock.writeLock().unlock();\n",
    "\t\ttry {\n",
    "\t\t\tThread.sleep(10);\n",
    "\t\t} catch (final InterruptedException e) { }\n",
    "\t\treturn value;\n",
    "\t}\n",
    "\n",
    "\tpublic static long getValue() {\n",
    "\t\tlock.readLock().lock();\n",
    "\t\ttry {\n",
    "\t\t\tThread.sleep(1);\n",
    "\t\t} catch (final InterruptedException e) { }\n",
    "\t\tlong rval = value;\n",
    "\t\tlock.readLock().unlock();\n",
    "\t\treturn rval;\n",
    "\t}\n",
    "    // ...\n",
    "}"
   ]
  },
  {
   "cell_type": "markdown",
   "metadata": {},
   "source": [
    "## Esercizio 2"
   ]
  },
  {
   "cell_type": "markdown",
   "metadata": {},
   "source": [
    "Non ho riscontrato particolari problemi nella risoluzione di questo esercizio."
   ]
  },
  {
   "cell_type": "markdown",
   "metadata": {},
   "source": [
    "## Esercizio 3"
   ]
  },
  {
   "cell_type": "markdown",
   "metadata": {},
   "source": [
    "Il problema dell'implementazione sta nel fatto che i cambiamenti non sono sincronizzati in quanto la variabile `version` non è sempre uguale per tutti i thread.  \n",
    "Una possibile soluzione è quella di rendere la variabile `volatile` ed aggiornare i numeri di telefono in un blocco synchronized per essere sicuri di non avere \"dati a metà\" nel caso in cui l'uomo di affari cambia il numero di telefono mentre lo stiamo aggiornado.  \n",
    "Alternativamente è possibile utilizzare dei lock espliciti sui singoli numeri di telefono, ma questo impatterebbe sulle performances. Un sistema di versioning come quello già parzialmente implementato mi pare il modo più efficiente per risolvere il problema.  "
   ]
  },
  {
   "cell_type": "code",
   "execution_count": 5,
   "metadata": {},
   "outputs": [],
   "source": [
    "class Contact implements Runnable {\n",
    "\tprivate final int id;\n",
    "\n",
    "\tpublic Contact(int id) {\n",
    "\t\tthis.id = id;\n",
    "\t}\n",
    "\n",
    "\t@Override\n",
    "\tpublic void run() {\n",
    "\t\tSystem.out.println(\"Contact\" + id + \": started\");\n",
    "\t\t\n",
    "\t\tint version = -1;\n",
    "\t\twhile  (true) {\n",
    "\t\t\t// Wait for version updates\n",
    "\n",
    "\t\t\tif (version == S4Esercizio3.version)\n",
    "\t\t\t\tcontinue;\n",
    "\t\t\t// Update local version\n",
    "\t\t\tsynchronized (this) {\n",
    "\t\t\t\tversion = S4Esercizio3.version;\n",
    "\t\t\t\t// Used to terminate\n",
    "\t\t\t\tif (version == -1)\n",
    "\t\t\t\t\tbreak;\n",
    "\n",
    "\t\t\t\t// update local numbers\n",
    "\t\t\t\tint home = S4Esercizio3.home;\n",
    "\t\t\t\tint office = S4Esercizio3.office;\n",
    "\t\t\t\tint mobile = S4Esercizio3.mobile;\n",
    "\t\t\t\tint emergency = S4Esercizio3.emergency;\n",
    "\t\t\t\tSystem.out.println(\"Contact\" + id + \": new Phonenumbers [home=\" + home + \", office=\" + office + \", mobile=\" + mobile + \", emergency=\" + emergency + \"]\");\n",
    "\t\t\t}\n",
    "\t\t}\n",
    "\t\tSystem.out.println(\"Contact\" + id + \": terminating\");\n",
    "\t}\n",
    "}"
   ]
  }
 ],
 "metadata": {
  "kernelspec": {
   "display_name": "Java",
   "language": "java",
   "name": "java"
  },
  "language_info": {
   "codemirror_mode": "java",
   "file_extension": ".java",
   "mimetype": "text/x-java-source",
   "name": "Java",
   "pygments_lexer": "java",
   "version": "9.0.4+11"
  }
 },
 "nbformat": 4,
 "nbformat_minor": 2
}
