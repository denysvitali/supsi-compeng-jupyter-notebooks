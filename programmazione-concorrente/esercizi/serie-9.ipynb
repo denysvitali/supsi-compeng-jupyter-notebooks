{
 "cells": [
  {
   "cell_type": "markdown",
   "metadata": {},
   "source": [
    "# Serie 9"
   ]
  },
  {
   "cell_type": "markdown",
   "metadata": {},
   "source": [
    "## Esercizio 1\n",
    "### Yield\n",
    "Dando la precedenza ad altri thread nel ciclo for di `thread2` possiamo rendere l'output più verboso in quanto non sprechiamo tutto il tempo della CPU all'interno del ciclo for, per poi settare la variabile `finished` a `true`.\n",
    "```java\n",
    "final Thread thread2 = new Thread(() -> {\n",
    "    cdl.countDown();\n",
    "    try {\n",
    "        cdl.await();\n",
    "    } catch (final InterruptedException e) {\n",
    "        e.printStackTrace();\n",
    "    }\n",
    "    for (int i = 1; i <= 50000; i++) {\n",
    "        S9Esercizio1.sum = i;\n",
    "        Thread.yield();\n",
    "    }\n",
    "    S9Esercizio1.finished = true;\n",
    "    System.out.println(\"cnt \" + S9Esercizio1.cnt);\n",
    "});\n",
    "```\n",
    "\n",
    "### Thread Priority\n",
    "Impostando una priorità più elevata al thread della somma (thread 1) ed una inferiore a quello del count (thread 2) possiamo avere un output più verboso.\n",
    "```java\n",
    "final Thread thread1 = new Thread(() -> {\n",
    "    Thread.currentThread().setPriority(MAX_PRIORITY);\n",
    "    cdl.countDown();\n",
    "    try {\n",
    "        cdl.await();\n",
    "    } catch (final InterruptedException e) {\n",
    "        e.printStackTrace();\n",
    "    }\n",
    "    int count = 0;\n",
    "\n",
    "    while (!S9Esercizio1.finished) {\n",
    "        S9Esercizio1.cnt = ++count;\n",
    "        System.out.println(\"sum \" + S9Esercizio1.sum);\n",
    "    }\n",
    "});\n",
    "\n",
    "final Thread thread2 = new Thread(() -> {\n",
    "    cdl.countDown();\n",
    "    try {\n",
    "        cdl.await();\n",
    "    } catch (final InterruptedException e) {\n",
    "        e.printStackTrace();\n",
    "    }\n",
    "    Thread.currentThread().setPriority(Thread.MIN_PRIORITY);\n",
    "    for (int i = 1; i <= 50000; i++) {\n",
    "        S9Esercizio1.sum = i;\n",
    "    }\n",
    "    Thread.currentThread().setPriority(MAX_PRIORITY);\n",
    "    S9Esercizio1.finished = true;\n",
    "    System.out.println(\"cnt \" + S9Esercizio1.cnt);\n",
    "});\n",
    "```"
   ]
  },
  {
   "cell_type": "markdown",
   "metadata": {},
   "source": [
    "## Esercizio 2"
   ]
  },
  {
   "cell_type": "markdown",
   "metadata": {},
   "source": [
    "La soluzione è molto semplice: per evitare problemi di deadlock basta acquisire i lock in maniera sequenziale e consistente in tutti i Thread.  \n",
    "Di conseguenza, con una sola linea di codice (un sort dei depositi) è possibile risolvere il problema di deadlock.  \n",
    "  \n",
    "Nella mia versione di codice ho anche sostituito i synchronized blocks con dei locks, per motivi di performance ed estetici (codice a cascata).\n",
    "\n",
    "```java\n",
    "    depots.sort((a,b) -> (a.getId() <= b.getId()? -1 : 1));\n",
    "```"
   ]
  }
 ],
 "metadata": {
  "kernelspec": {
   "display_name": "Python 3",
   "language": "python",
   "name": "python3"
  },
  "language_info": {
   "codemirror_mode": {
    "name": "ipython",
    "version": 3
   },
   "file_extension": ".py",
   "mimetype": "text/x-python",
   "name": "python",
   "nbconvert_exporter": "python",
   "pygments_lexer": "ipython3",
   "version": "3.6.5"
  }
 },
 "nbformat": 4,
 "nbformat_minor": 2
}
