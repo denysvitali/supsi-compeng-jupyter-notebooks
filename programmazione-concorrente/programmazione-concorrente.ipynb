{
 "cells": [
  {
   "cell_type": "markdown",
   "metadata": {},
   "source": [
    "# Programmazione Concorrente e Parallela"
   ]
  },
  {
   "cell_type": "markdown",
   "metadata": {},
   "source": [
    "Module: M02056.2  \n",
    "Course: C02045.2    \n",
    "Teachers: Tiziano Leidi, Loris Grossi, Diego Frei"
   ]
  },
  {
   "cell_type": "markdown",
   "metadata": {},
   "source": [
    "## Threads"
   ]
  },
  {
   "cell_type": "markdown",
   "metadata": {},
   "source": [
    "### Possibilità di utilizzo\n",
    "#### Estensione della classe Thread"
   ]
  },
  {
   "cell_type": "code",
   "execution_count": 1,
   "metadata": {},
   "outputs": [
    {
     "name": "stdout",
     "output_type": "stream",
     "text": [
      "\n",
      "Esecuzione Task #1"
     ]
    }
   ],
   "source": [
    "class MyThread extends Thread {\n",
    "    public void run() {\n",
    "        System.out.println(\"Esecuzione Task #1\");\n",
    "    }\n",
    "}\n",
    "Thread thread1 = new MyThread();\n",
    "thread1.start();"
   ]
  },
  {
   "cell_type": "markdown",
   "metadata": {},
   "source": [
    "#### Utilizzo di un Anonymous Class"
   ]
  },
  {
   "cell_type": "code",
   "execution_count": 2,
   "metadata": {},
   "outputs": [
    {
     "name": "stdout",
     "output_type": "stream",
     "text": [
      "Esecuzione Task #2\n"
     ]
    }
   ],
   "source": [
    "Thread thread2 = new Thread(new Runnable() {\n",
    "    public void run() {\n",
    "        System.out.println(\"Esecuzione Task #2\");\n",
    "    }\n",
    "});\n",
    "thread2.start();"
   ]
  },
  {
   "cell_type": "markdown",
   "metadata": {},
   "source": [
    "#### Utilizzo di una Lambda Expression"
   ]
  },
  {
   "cell_type": "code",
   "execution_count": 3,
   "metadata": {},
   "outputs": [
    {
     "name": "stdout",
     "output_type": "stream",
     "text": [
      "Esecuzione Task #3"
     ]
    }
   ],
   "source": [
    "Thread thread3 = new Thread(() -> System.out.println(\"Esecuzione Task #3\"));\n",
    "thread3.start();"
   ]
  },
  {
   "cell_type": "markdown",
   "metadata": {},
   "source": [
    "### Funzionalità dei threads"
   ]
  },
  {
   "cell_type": "markdown",
   "metadata": {},
   "source": [
    "#### Sleep\n",
    "Metodi statici che mettono a dormire il thread corrente per l’intervallo di tempo specificato (o più dell’intervallo, a seconda di quando il thread verrà ri-schedulato)."
   ]
  },
  {
   "cell_type": "code",
   "execution_count": 9,
   "metadata": {},
   "outputs": [
    {
     "name": "stdout",
     "output_type": "stream",
     "text": [
      "Esecuzione Task dopo 200ms\n"
     ]
    }
   ],
   "source": [
    "Thread thread = new Thread(() -> System.out.println(\"Esecuzione Task dopo 200ms\"));\n",
    "thread.sleep(200); // Sleep for 1s\n",
    "thread.start();"
   ]
  },
  {
   "cell_type": "markdown",
   "metadata": {},
   "source": [
    "#### Join"
   ]
  },
  {
   "cell_type": "markdown",
   "metadata": {},
   "source": [
    "Mette ad aspettare il thread corrente finché il thread specificato non ha terminato la sua esecuzione."
   ]
  },
  {
   "cell_type": "code",
   "execution_count": 19,
   "metadata": {},
   "outputs": [
    {
     "name": "stdout",
     "output_type": "stream",
     "text": [
      "Task 1\n",
      "Task 2\n",
      "Tutti i task hanno terminato la loro esecuzione\n"
     ]
    }
   ],
   "source": [
    "Thread thread1 = new Thread(() -> {\n",
    "    System.out.println(\"Task 1\");\n",
    "    try{\n",
    "        Thread.sleep(100);\n",
    "    }\n",
    "    catch(InterruptedException e){\n",
    "        \n",
    "    }\n",
    "});\n",
    "Thread thread2 = new Thread(() -> {\n",
    "    System.out.println(\"Task 2\");\n",
    "    try{\n",
    "        Thread.sleep(200);\n",
    "    }\n",
    "    catch(InterruptedException e){\n",
    "        \n",
    "    }\n",
    "});\n",
    "\n",
    "thread1.start();\n",
    "thread2.start();\n",
    "\n",
    "thread1.join();\n",
    "thread2.join();\n",
    "System.out.println(\"Tutti i task hanno terminato la loro esecuzione\");"
   ]
  },
  {
   "cell_type": "markdown",
   "metadata": {},
   "source": [
    "### Esempio"
   ]
  },
  {
   "cell_type": "code",
   "execution_count": 23,
   "metadata": {},
   "outputs": [
    {
     "name": "stdout",
     "output_type": "stream",
     "text": [
      "Thread started\n",
      "Thread started\n",
      "Thread completed\n",
      "Thread started\n",
      "Thread completed\n",
      "Thread completed\n",
      "Thread started\n",
      "Thread completed\n",
      "Thread started\n",
      "Thread started\n",
      "Thread completed\n",
      "Thread started\n",
      "Thread started\n",
      "Thread started\n",
      "Thread completed\n",
      "Thread completed\n",
      "Thread started\n",
      "Thread completed\n",
      "Thread completed\n",
      "Thread completed\n",
      "Thread all completed\n"
     ]
    }
   ],
   "source": [
    "final Thread[] threads = new Thread[10];\n",
    "for (int i = 0; i < threads.length; i++) {\n",
    "    threads[i] = new Thread(new Runnable() {\n",
    "    public void run() {\n",
    "        System.out.println(\"Thread started\");\n",
    "        try {\n",
    "            Thread.sleep((long) Math.random() * 1000);\n",
    "        } catch (InterruptedException e) {\n",
    "            e.printStackTrace();\n",
    "        }\n",
    "        System.out.println(\"Thread completed\");\n",
    "    }\n",
    "    });\n",
    "    threads[i].start();\n",
    "}\n",
    "for (int i = 0; i < threads.length; i++) {\n",
    "    try {\n",
    "        threads[i].join();\n",
    "    } catch (InterruptedException e) {\n",
    "        e.printStackTrace();\n",
    "    }\n",
    "}\n",
    "System.out.println(\"Thread all completed\");"
   ]
  },
  {
   "cell_type": "markdown",
   "metadata": {},
   "source": [
    "## Thread Safety"
   ]
  },
  {
   "cell_type": "markdown",
   "metadata": {},
   "source": [
    "Thread-safe: Il programma ha un comportamento corretto quando è eseguito su più thread  \n",
    "I programmi single-thread non hanno bisogno di essere thread-safe."
   ]
  },
  {
   "cell_type": "markdown",
   "metadata": {},
   "source": [
    "### Memoria condivisa\n"
   ]
  }
 ],
 "metadata": {
  "kernelspec": {
   "display_name": "Java",
   "language": "java",
   "name": "java"
  },
  "language_info": {
   "codemirror_mode": "java",
   "file_extension": ".java",
   "mimetype": "text/x-java-source",
   "name": "Java",
   "pygments_lexer": "java",
   "version": "9.0.4+11"
  }
 },
 "nbformat": 4,
 "nbformat_minor": 2
}
