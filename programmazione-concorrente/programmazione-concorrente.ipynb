{
 "cells": [
  {
   "cell_type": "markdown",
   "metadata": {},
   "source": [
    "# Programmazione Concorrente e Parallela"
   ]
  },
  {
   "cell_type": "markdown",
   "metadata": {},
   "source": [
    "Module: M02056.2  \n",
    "Course: C02045.2    \n",
    "Teachers: Tiziano Leidi, Loris Grossi, Diego Frei"
   ]
  },
  {
   "cell_type": "markdown",
   "metadata": {},
   "source": [
    "## Threads"
   ]
  },
  {
   "cell_type": "markdown",
   "metadata": {},
   "source": [
    "### Possibilità di utilizzo\n",
    "#### Estensione della classe Thread"
   ]
  },
  {
   "cell_type": "code",
   "execution_count": 1,
   "metadata": {},
   "outputs": [
    {
     "name": "stdout",
     "output_type": "stream",
     "text": [
      "\n",
      "Esecuzione Task #1"
     ]
    }
   ],
   "source": [
    "class MyThread extends Thread {\n",
    "    public void run() {\n",
    "        System.out.println(\"Esecuzione Task #1\");\n",
    "    }\n",
    "}\n",
    "Thread thread1 = new MyThread();\n",
    "thread1.start();"
   ]
  },
  {
   "cell_type": "markdown",
   "metadata": {},
   "source": [
    "#### Utilizzo di un Anonymous Class"
   ]
  },
  {
   "cell_type": "code",
   "execution_count": 2,
   "metadata": {},
   "outputs": [
    {
     "name": "stdout",
     "output_type": "stream",
     "text": [
      "Esecuzione Task #2\n"
     ]
    }
   ],
   "source": [
    "Thread thread2 = new Thread(new Runnable() {\n",
    "    public void run() {\n",
    "        System.out.println(\"Esecuzione Task #2\");\n",
    "    }\n",
    "});\n",
    "thread2.start();"
   ]
  },
  {
   "cell_type": "markdown",
   "metadata": {},
   "source": [
    "#### Utilizzo di una Lambda Expression"
   ]
  },
  {
   "cell_type": "code",
   "execution_count": 3,
   "metadata": {},
   "outputs": [
    {
     "name": "stdout",
     "output_type": "stream",
     "text": [
      "Esecuzione Task #3"
     ]
    }
   ],
   "source": [
    "Thread thread3 = new Thread(() -> System.out.println(\"Esecuzione Task #3\"));\n",
    "thread3.start();"
   ]
  },
  {
   "cell_type": "markdown",
   "metadata": {},
   "source": [
    "### Funzionalità dei threads"
   ]
  },
  {
   "cell_type": "markdown",
   "metadata": {},
   "source": [
    "#### Sleep\n",
    "Metodi statici che mettono a dormire il thread corrente per l’intervallo di tempo specificato (o più dell’intervallo, a seconda di quando il thread verrà ri-schedulato)."
   ]
  },
  {
   "cell_type": "code",
   "execution_count": 9,
   "metadata": {},
   "outputs": [
    {
     "name": "stdout",
     "output_type": "stream",
     "text": [
      "Esecuzione Task dopo 200ms\n"
     ]
    }
   ],
   "source": [
    "Thread thread = new Thread(() -> System.out.println(\"Esecuzione Task dopo 200ms\"));\n",
    "thread.sleep(200); // Sleep for 1s\n",
    "thread.start();"
   ]
  },
  {
   "cell_type": "markdown",
   "metadata": {},
   "source": [
    "#### Join"
   ]
  },
  {
   "cell_type": "markdown",
   "metadata": {},
   "source": [
    "Mette ad aspettare il thread corrente finché il thread specificato non ha terminato la sua esecuzione."
   ]
  },
  {
   "cell_type": "code",
   "execution_count": 19,
   "metadata": {},
   "outputs": [
    {
     "name": "stdout",
     "output_type": "stream",
     "text": [
      "Task 1\n",
      "Task 2\n",
      "Tutti i task hanno terminato la loro esecuzione\n"
     ]
    }
   ],
   "source": [
    "Thread thread1 = new Thread(() -> {\n",
    "    System.out.println(\"Task 1\");\n",
    "    try{\n",
    "        Thread.sleep(100);\n",
    "    }\n",
    "    catch(InterruptedException e){\n",
    "        \n",
    "    }\n",
    "});\n",
    "Thread thread2 = new Thread(() -> {\n",
    "    System.out.println(\"Task 2\");\n",
    "    try{\n",
    "        Thread.sleep(200);\n",
    "    }\n",
    "    catch(InterruptedException e){\n",
    "        \n",
    "    }\n",
    "});\n",
    "\n",
    "thread1.start();\n",
    "thread2.start();\n",
    "\n",
    "thread1.join();\n",
    "thread2.join();\n",
    "System.out.println(\"Tutti i task hanno terminato la loro esecuzione\");"
   ]
  },
  {
   "cell_type": "markdown",
   "metadata": {},
   "source": [
    "### Esempio"
   ]
  },
  {
   "cell_type": "code",
   "execution_count": 23,
   "metadata": {},
   "outputs": [
    {
     "name": "stdout",
     "output_type": "stream",
     "text": [
      "Thread started\n",
      "Thread started\n",
      "Thread completed\n",
      "Thread started\n",
      "Thread completed\n",
      "Thread completed\n",
      "Thread started\n",
      "Thread completed\n",
      "Thread started\n",
      "Thread started\n",
      "Thread completed\n",
      "Thread started\n",
      "Thread started\n",
      "Thread started\n",
      "Thread completed\n",
      "Thread completed\n",
      "Thread started\n",
      "Thread completed\n",
      "Thread completed\n",
      "Thread completed\n",
      "Thread all completed\n"
     ]
    }
   ],
   "source": [
    "final Thread[] threads = new Thread[10];\n",
    "for (int i = 0; i < threads.length; i++) {\n",
    "    threads[i] = new Thread(new Runnable() {\n",
    "    public void run() {\n",
    "        System.out.println(\"Thread started\");\n",
    "        try {\n",
    "            Thread.sleep((long) Math.random() * 1000);\n",
    "        } catch (InterruptedException e) {\n",
    "            e.printStackTrace();\n",
    "        }\n",
    "        System.out.println(\"Thread completed\");\n",
    "    }\n",
    "    });\n",
    "    threads[i].start();\n",
    "}\n",
    "for (int i = 0; i < threads.length; i++) {\n",
    "    try {\n",
    "        threads[i].join();\n",
    "    } catch (InterruptedException e) {\n",
    "        e.printStackTrace();\n",
    "    }\n",
    "}\n",
    "System.out.println(\"Thread all completed\");"
   ]
  },
  {
   "cell_type": "markdown",
   "metadata": {},
   "source": [
    "## Thread Safety"
   ]
  },
  {
   "cell_type": "markdown",
   "metadata": {},
   "source": [
    "Thread-safe: Il programma ha un comportamento corretto quando è eseguito su più thread  \n",
    "I programmi single-thread non hanno bisogno di essere thread-safe."
   ]
  },
  {
   "cell_type": "markdown",
   "metadata": {},
   "source": [
    "### Memoria condivisa\n",
    "Nel caso in cui una variabile viene contemporaneamente modificata da più thread, parliamo di [\"Race Condition\"](https://en.wikipedia.org/wiki/Race_condition)"
   ]
  },
  {
   "cell_type": "markdown",
   "metadata": {},
   "source": [
    "#### Esempio di Race Condition\n"
   ]
  },
  {
   "cell_type": "code",
   "execution_count": 28,
   "metadata": {},
   "outputs": [
    {
     "name": "stdout",
     "output_type": "stream",
     "text": [
      "The 43 Fibonacci number is 2\n",
      "The 44 Fibonacci number is 3\n",
      "The 45 Fibonacci number is 5\n",
      "The 46 Fibonacci number is 8\n",
      "The 47 Fibonacci number is 13\n",
      "The 48 Fibonacci number is 21\n",
      "The 49 Fibonacci number is 34\n",
      "The 51 Fibonacci number is 55\n",
      "The 51 Fibonacci number is 89\n",
      "The 52 Fibonacci number is 144\n",
      "The 54 Fibonacci number is 377\n",
      "The 55 Fibonacci number is 610\n",
      "The 53 Fibonacci number is 233\n",
      "The 56 Fibonacci number is 987\n",
      "The 57 Fibonacci number is 1597\n",
      "The 58 Fibonacci number is 2584\n",
      "The 59 Fibonacci number is 4181\n",
      "The 60 Fibonacci number is 6765\n",
      "The 61 Fibonacci number is 10946\n",
      "The 62 Fibonacci number is 17711\n"
     ]
    }
   ],
   "source": [
    "class FibonacciNumber {\n",
    "    private int previousValue = 1;\n",
    "    private int currentValue = 1;\n",
    "    \n",
    "    public int getPreviousValue() {\n",
    "        return previousValue;\n",
    "    }\n",
    "    \n",
    "    public int getCurrentValue() {\n",
    "        return currentValue;\n",
    "    }\n",
    "    \n",
    "    public void setNewValue(int value) {\n",
    "        previousValue = currentValue;\n",
    "        currentValue = value;\n",
    "    }\n",
    "}\n",
    "\n",
    "class FibonacciCalculator implements Runnable {\n",
    "    private static int count = 2;\n",
    "    private FibonacciNumber number = null;\n",
    "    \n",
    "    public FibonacciCalculator(FibonacciNumber number) {\n",
    "        this.number = number;\n",
    "    }\n",
    "    public void run() {\n",
    "        count++;\n",
    "        number.setNewValue(number.getPreviousValue() +\n",
    "        number.getCurrentValue());\n",
    "        System.out.println(\"The \" + count + \" Fibonacci number is \" + number.getCurrentValue());\n",
    "    }\n",
    "}\n",
    "\n",
    "FibonacciNumber number = new FibonacciNumber();\n",
    "Thread[] threads = new Thread[20];\n",
    "\n",
    "for (int i = 0; i < threads.length; i++) {\n",
    "threads[i] = new Thread(new FibonacciCalculator(number));\n",
    "threads[i].start();\n",
    "}\n",
    "\n",
    "for (int i = 0; i < threads.length; i++) {\n",
    "    try {\n",
    "        threads[i].join();\n",
    "    } catch (InterruptedException e){\n",
    "        e.printStackTrace();\n",
    "    }\n",
    "}"
   ]
  },
  {
   "cell_type": "markdown",
   "metadata": {},
   "source": [
    "### Shared vs Mutable\n",
    "Per scrivere codice *thread safe* è necessario gestire correttamente l'accesso a variabile ed oggetti. In particolare alle variabili che sono condivise e mutabili.\n",
    "\n",
    "##### Shared\n",
    "La variabile è utilizzata da più threads contemporaneamente\n",
    "\n",
    "##### Mutable\n",
    "La variabile può cambiare il valore durante il suo ciclo di vita\n",
    "\n",
    "#### Ragionamento\n",
    "Dato che ogni Thread ha il suo stack di esecuzione, le variabili sullo stack non causano problemi. Il problema insorge però quando tentiamo di utilizzare delle variabili che stanno sullo heap e nelle variabili statiche in quanto queste possono essere modificate da altri thread.\n",
    "\n",
    "### Soluzione per la thread safety\n",
    "Una soluzione per evitare delle race conditions è proteggere gli stati shared e mutable mediante dei *mutex* (mutual exclusion locks). In questo modo si può garantire ad un thread il lock su una regione di memoria protetta. Si ottiene così la *sincronizzazione di threads*.\n",
    "\n",
    "### Locks\n",
    "Se una variabile / oggetto è *sharable e mutable* la sincronizzazione è necessaria **ogni volta che si accede alla variabile in lettura o scrittura**.  \n",
    "Utilizzare un lock solo sulla scrittura *non serve a nulla*.\n",
    "\n",
    "### Atomicità\n",
    "Quando un operazione necessita che un valore modificato sia consistente si parla di atomicità, ossia la modifica è inscindibile (atomica).\n",
    "\n",
    "#### Compound Actions\n",
    "Sono sequenze di operazioni che devono eseguire in maniera atomica per essere thread-safe\n"
   ]
  },
  {
   "cell_type": "markdown",
   "metadata": {},
   "source": [
    "### Intrinsic locks"
   ]
  },
  {
   "cell_type": "markdown",
   "metadata": {},
   "source": [
    "#### Synchronized\n",
    "Un metodo synchronized ha quale lock *l'oggetto in cui è contenuto il metodo*, nel caso di metodi statici viene utilizzato *l'oggetto classe* come oggetto per il lock."
   ]
  },
  {
   "cell_type": "code",
   "execution_count": 32,
   "metadata": {},
   "outputs": [
    {
     "name": "stdout",
     "output_type": "stream",
     "text": [
      "Value: 45\n",
      "Value: 90\n"
     ]
    }
   ],
   "source": [
    "class Counter {\n",
    "    private long count = 0;\n",
    "    \n",
    "    public void add(long value) {\n",
    "        synchronized (this) {\n",
    "            this.count += value;\n",
    "        }\n",
    "    }\n",
    "    \n",
    "    public long get(){\n",
    "        return this.count;\n",
    "    }\n",
    "}\n",
    "\n",
    "class CounterThread extends Thread {\n",
    "    private Counter counter = null;\n",
    "    public CounterThread(Counter counter) {\n",
    "        this.counter = counter;\n",
    "    }\n",
    "    \n",
    "    @Override\n",
    "    public void run() {\n",
    "        for (int i = 0; i < 10; i++) {\n",
    "            counter.add(i);\n",
    "        }\n",
    "        System.out.println(\"Value: \" + counter.get());\n",
    "    }\n",
    "}\n",
    "\n",
    "Counter counter = new Counter();\n",
    "Thread threadA = new CounterThread(counter);\n",
    "Thread threadB = new CounterThread(counter);\n",
    "threadA.start();\n",
    "threadB.start();"
   ]
  },
  {
   "cell_type": "markdown",
   "metadata": {},
   "source": [
    "### Explicit Locks\n",
    "Il supporto è simile a \"synchronized\" ma è esplicito ed è più flessibile. Sono reentrant locks: ossia il medesimo lock può venir acquisito più vole dallo stesso thread."
   ]
  },
  {
   "cell_type": "code",
   "execution_count": 34,
   "metadata": {},
   "outputs": [],
   "source": [
    "import java.util.concurrent.locks.Lock;\n",
    "public class ConcurrentIntegerArray {\n",
    "    private Lock lock = new ReentrantLock();\n",
    "    private int[] arr;\n",
    "    \n",
    "    public ConcurrentIntegerArray(int size) {\n",
    "        arr = new int[size];\n",
    "    }\n",
    "    \n",
    "    public void set(int index, int value) {\n",
    "        lock.lock();\n",
    "        try {\n",
    "            arr[index] = value;\n",
    "        } finally {\n",
    "            lock.unlock();\n",
    "        }\n",
    "    }\n",
    "    public int get(int index) {\n",
    "        lock.lock();\n",
    "        try {\n",
    "            return arr[index];\n",
    "        } finally {\n",
    "            lock.unlock();\n",
    "        }\n",
    "    }\n",
    "}"
   ]
  },
  {
   "cell_type": "markdown",
   "metadata": {},
   "source": [
    "### RW-locks\n",
    "Tanti reader che leggono contemporaneamente, appena c'è un write i reader vengono bloccati fino al termine della scrittura."
   ]
  },
  {
   "cell_type": "code",
   "execution_count": 36,
   "metadata": {},
   "outputs": [],
   "source": [
    "import java.util.concurrent.locks.ReadWriteLock;\n",
    "public class MyConcurrentHashMap<K, V> {\n",
    "    private Map<K, V> hashMap = new HashMap<>();\n",
    "    private ReadWriteLock lock = new ReentrantReadWriteLock();\n",
    "    private Lock readLock = lock.readLock();\n",
    "    private Lock writeLock = lock.writeLock();\n",
    "\n",
    "    public void put(K key, V value) {\n",
    "        writeLock.lock();\n",
    "        try {\n",
    "            hashMap.put(key, value);\n",
    "        } finally {\n",
    "            writeLock.unlock();\n",
    "        }\n",
    "    }\n",
    "    public V remove(K key) {\n",
    "        writeLock.lock();\n",
    "        try {\n",
    "            return hashMap.remove(key);\n",
    "        } finally {\n",
    "            writeLock.unlock();\n",
    "        }\n",
    "    }\n",
    "    \n",
    "    public V get(K key) {\n",
    "        readLock.lock();\n",
    "        try {\n",
    "        return hashMap.get(key);\n",
    "        } finally {\n",
    "        readLock.unlock();\n",
    "        }\n",
    "    }\n",
    "    \n",
    "    public boolean containsKey(K key) {\n",
    "        readLock.lock();\n",
    "        try {\n",
    "            return hashMap.containsKey(key);\n",
    "        } finally {\n",
    "            readLock.unlock();\n",
    "        }\n",
    "    }   \n",
    "}"
   ]
  }
 ],
 "metadata": {
  "kernelspec": {
   "display_name": "Java",
   "language": "java",
   "name": "java"
  },
  "language_info": {
   "codemirror_mode": "java",
   "file_extension": ".java",
   "mimetype": "text/x-java-source",
   "name": "Java",
   "pygments_lexer": "java",
   "version": "9.0.4+11"
  }
 },
 "nbformat": 4,
 "nbformat_minor": 2
}
