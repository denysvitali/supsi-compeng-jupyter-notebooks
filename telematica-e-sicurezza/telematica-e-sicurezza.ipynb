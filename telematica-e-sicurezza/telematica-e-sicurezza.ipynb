{
 "cells": [
  {
   "cell_type": "markdown",
   "metadata": {},
   "source": [
    "# Telematica e sicurezza"
   ]
  },
  {
   "cell_type": "markdown",
   "metadata": {},
   "source": [
    "Teacher: Angelo Consoli  \n",
    "Course: M02037 - C02048 Telematica, crittografia e sicurezza informatica"
   ]
  },
  {
   "cell_type": "markdown",
   "metadata": {},
   "source": [
    "## Routing\n",
    "### Algoritmi di Routing\n",
    "#### Dijkstra's algorithm\n"
   ]
  },
  {
   "cell_type": "code",
   "execution_count": 14,
   "metadata": {},
   "outputs": [],
   "source": [
    "class Graph:\n",
    "  def __init__(self):\n",
    "    self.nodes = set()\n",
    "    self.edges = defaultdict(list)\n",
    "    self.distances = {}\n",
    "\n",
    "  def add_node(self, value):\n",
    "    self.nodes.add(value)\n",
    "\n",
    "  def add_edge(self, from_node, to_node, distance):\n",
    "    self.edges[from_node].append(to_node)\n",
    "    self.edges[to_node].append(from_node)\n",
    "    self.distances[(from_node, to_node)] = distance\n",
    "\n",
    "\n",
    "def dijsktra(graph, initial):\n",
    "  visited = {initial: 0}\n",
    "  path = {}\n",
    "\n",
    "  nodes = set(graph.nodes)\n",
    "\n",
    "  while nodes: \n",
    "    min_node = None\n",
    "    for node in nodes:\n",
    "      if node in visited:\n",
    "        if min_node is None:\n",
    "          min_node = node\n",
    "        elif visited[node] < visited[min_node]:\n",
    "          min_node = node\n",
    "\n",
    "    if min_node is None:\n",
    "      break\n",
    "\n",
    "    nodes.remove(min_node)\n",
    "    current_weight = visited[min_node]\n",
    "\n",
    "    for edge in graph.edges[min_node]:\n",
    "      weight = current_weight + graph.distance[(min_node, edge)]\n",
    "      if edge not in visited or weight < visited[edge]:\n",
    "        visited[edge] = weight\n",
    "        path[edge] = min_node\n",
    "  return visited, path\n"
   ]
  },
  {
   "cell_type": "markdown",
   "metadata": {},
   "source": [
    "#### Bellman-Ford\n"
   ]
  },
  {
   "cell_type": "markdown",
   "metadata": {},
   "source": [
    "<img src=\"imgs/bellman-ford-1.jpg\"/>"
   ]
  },
  {
   "cell_type": "code",
   "execution_count": 15,
   "metadata": {},
   "outputs": [
    {
     "name": "stdout",
     "output_type": "stream",
     "text": [
      "Vertex   Distance from Source\n",
      "a \t\t   0\n",
      "b \t\t   4\n",
      "c \t\t   7\n",
      "d \t\t -20\n",
      "e \t\t -12\n",
      "f \t\t -13\n"
     ]
    }
   ],
   "source": [
    "from collections import defaultdict\n",
    " \n",
    "alph=['a','b','c','d','e', 'f']    \n",
    "\n",
    "#Class to represent a graph\n",
    "class Graph:\n",
    " \n",
    "    def __init__(self,vertices):\n",
    "        self.V= vertices #No. of vertices\n",
    "        self.graph = [] # default dictionary to store graph\n",
    "  \n",
    "    # function to add an edge to graph\n",
    "    def addEdge(self,u,v,w):\n",
    "        self.graph.append([u, v, w])\n",
    "         \n",
    "    # utility function used to print the solution\n",
    "    def printArr(self, dist):\n",
    "        print(\"Vertex   Distance from Source\")\n",
    "        for i in range(self.V):\n",
    "            print(\"%s \\t\\t %3d\" % (alph[i], dist[i]))\n",
    "     \n",
    "    # The main function that finds shortest distances from src to\n",
    "    # all other vertices using Bellman-Ford algorithm.  The function\n",
    "    # also detects negative weight cycle\n",
    "    def BellmanFord(self, src):\n",
    " \n",
    "        # Step 1: Initialize distances from src to all other vertices\n",
    "        # as INFINITE\n",
    "        dist = [float(\"Inf\")] * self.V\n",
    "        dist[src] = 0\n",
    " \n",
    " \n",
    "        # Step 2: Relax all edges |V| - 1 times. A simple shortest \n",
    "        # path from src to any other vertex can have at-most |V| - 1 \n",
    "        # edges\n",
    "        for i in range(self.V - 1):\n",
    "            # Update dist value and parent index of the adjacent vertices of\n",
    "            # the picked vertex. Consider only those vertices which are still in\n",
    "            # queue\n",
    "            for u, v, w in self.graph:\n",
    "                if dist[u] != float(\"Inf\") and dist[u] + w < dist[v]:\n",
    "                        dist[v] = dist[u] + w\n",
    " \n",
    "        # Step 3: check for negative-weight cycles.  The above step \n",
    "        # guarantees shortest distances if graph doesn't contain \n",
    "        # negative weight cycle.  If we get a shorter path, then there\n",
    "        # is a cycle.\n",
    " \n",
    "        for u, v, w in self.graph:\n",
    "                if dist[u] != float(\"Inf\") and dist[u] + w < dist[v]:\n",
    "                        print(\"Graph contains negative weight cycle\")\n",
    "                        return\n",
    "                         \n",
    "        # print all distance\n",
    "        self.printArr(dist)\n",
    " \n",
    "g = Graph(6)\n",
    "g.addEdge(0, 1, 4)\n",
    "g.addEdge(0, 5, 2)\n",
    "g.addEdge(1, 2, 3)\n",
    "g.addEdge(2, 4, 5)\n",
    "g.addEdge(2, 3, 1)\n",
    "g.addEdge(2, 5, -20)\n",
    "g.addEdge(4, 3, -8)\n",
    "g.addEdge(5, 4, 1)\n",
    "\n",
    " \n",
    "#Print the solution\n",
    "g.BellmanFord(0)    "
   ]
  },
  {
   "cell_type": "code",
   "execution_count": null,
   "metadata": {},
   "outputs": [],
   "source": []
  }
 ],
 "metadata": {
  "kernelspec": {
   "display_name": "Python 3",
   "language": "python",
   "name": "python3"
  },
  "language_info": {
   "codemirror_mode": {
    "name": "ipython",
    "version": 3
   },
   "file_extension": ".py",
   "mimetype": "text/x-python",
   "name": "python",
   "nbconvert_exporter": "python",
   "pygments_lexer": "ipython3",
   "version": "3.6.4"
  }
 },
 "nbformat": 4,
 "nbformat_minor": 2
}
