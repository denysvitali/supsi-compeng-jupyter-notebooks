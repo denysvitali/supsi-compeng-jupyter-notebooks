{
 "cells": [
  {
   "cell_type": "markdown",
   "metadata": {},
   "source": [
    "# Telematica e sicurezza"
   ]
  },
  {
   "cell_type": "markdown",
   "metadata": {},
   "source": [
    "Teacher: Angelo Consoli  \n",
    "Course: M02037 - C02048 Telematica, crittografia e sicurezza informatica"
   ]
  },
  {
   "cell_type": "markdown",
   "metadata": {},
   "source": [
    "## Routing\n",
    "### Algoritmi di Routing\n",
    "#### Dijkstra's algorithm\n"
   ]
  },
  {
   "cell_type": "code",
   "execution_count": 14,
   "metadata": {},
   "outputs": [],
   "source": [
    "class Graph:\n",
    "  def __init__(self):\n",
    "    self.nodes = set()\n",
    "    self.edges = defaultdict(list)\n",
    "    self.distances = {}\n",
    "\n",
    "  def add_node(self, value):\n",
    "    self.nodes.add(value)\n",
    "\n",
    "  def add_edge(self, from_node, to_node, distance):\n",
    "    self.edges[from_node].append(to_node)\n",
    "    self.edges[to_node].append(from_node)\n",
    "    self.distances[(from_node, to_node)] = distance\n",
    "\n",
    "\n",
    "def dijsktra(graph, initial):\n",
    "  visited = {initial: 0}\n",
    "  path = {}\n",
    "\n",
    "  nodes = set(graph.nodes)\n",
    "\n",
    "  while nodes: \n",
    "    min_node = None\n",
    "    for node in nodes:\n",
    "      if node in visited:\n",
    "        if min_node is None:\n",
    "          min_node = node\n",
    "        elif visited[node] < visited[min_node]:\n",
    "          min_node = node\n",
    "\n",
    "    if min_node is None:\n",
    "      break\n",
    "\n",
    "    nodes.remove(min_node)\n",
    "    current_weight = visited[min_node]\n",
    "\n",
    "    for edge in graph.edges[min_node]:\n",
    "      weight = current_weight + graph.distance[(min_node, edge)]\n",
    "      if edge not in visited or weight < visited[edge]:\n",
    "        visited[edge] = weight\n",
    "        path[edge] = min_node\n",
    "  return visited, path\n"
   ]
  },
  {
   "cell_type": "markdown",
   "metadata": {},
   "source": [
    "#### Bellman-Ford\n"
   ]
  },
  {
   "cell_type": "markdown",
   "metadata": {},
   "source": [
    "<img src=\"imgs/bellman-ford-1.jpg\"/>"
   ]
  },
  {
   "cell_type": "code",
   "execution_count": 15,
   "metadata": {},
   "outputs": [
    {
     "name": "stdout",
     "output_type": "stream",
     "text": [
      "Vertex   Distance from Source\n",
      "a \t\t   0\n",
      "b \t\t   4\n",
      "c \t\t   7\n",
      "d \t\t -20\n",
      "e \t\t -12\n",
      "f \t\t -13\n"
     ]
    }
   ],
   "source": [
    "from collections import defaultdict\n",
    " \n",
    "alph=['a','b','c','d','e', 'f']    \n",
    "\n",
    "#Class to represent a graph\n",
    "class Graph:\n",
    " \n",
    "    def __init__(self,vertices):\n",
    "        self.V= vertices #No. of vertices\n",
    "        self.graph = [] # default dictionary to store graph\n",
    "  \n",
    "    # function to add an edge to graph\n",
    "    def addEdge(self,u,v,w):\n",
    "        self.graph.append([u, v, w])\n",
    "         \n",
    "    # utility function used to print the solution\n",
    "    def printArr(self, dist):\n",
    "        print(\"Vertex   Distance from Source\")\n",
    "        for i in range(self.V):\n",
    "            print(\"%s \\t\\t %3d\" % (alph[i], dist[i]))\n",
    "     \n",
    "    # The main function that finds shortest distances from src to\n",
    "    # all other vertices using Bellman-Ford algorithm.  The function\n",
    "    # also detects negative weight cycle\n",
    "    def BellmanFord(self, src):\n",
    " \n",
    "        # Step 1: Initialize distances from src to all other vertices\n",
    "        # as INFINITE\n",
    "        dist = [float(\"Inf\")] * self.V\n",
    "        dist[src] = 0\n",
    " \n",
    " \n",
    "        # Step 2: Relax all edges |V| - 1 times. A simple shortest \n",
    "        # path from src to any other vertex can have at-most |V| - 1 \n",
    "        # edges\n",
    "        for i in range(self.V - 1):\n",
    "            # Update dist value and parent index of the adjacent vertices of\n",
    "            # the picked vertex. Consider only those vertices which are still in\n",
    "            # queue\n",
    "            for u, v, w in self.graph:\n",
    "                if dist[u] != float(\"Inf\") and dist[u] + w < dist[v]:\n",
    "                        dist[v] = dist[u] + w\n",
    " \n",
    "        # Step 3: check for negative-weight cycles.  The above step \n",
    "        # guarantees shortest distances if graph doesn't contain \n",
    "        # negative weight cycle.  If we get a shorter path, then there\n",
    "        # is a cycle.\n",
    " \n",
    "        for u, v, w in self.graph:\n",
    "                if dist[u] != float(\"Inf\") and dist[u] + w < dist[v]:\n",
    "                        print(\"Graph contains negative weight cycle\")\n",
    "                        return\n",
    "                         \n",
    "        # print all distance\n",
    "        self.printArr(dist)\n",
    " \n",
    "g = Graph(6)\n",
    "g.addEdge(0, 1, 4)\n",
    "g.addEdge(0, 5, 2)\n",
    "g.addEdge(1, 2, 3)\n",
    "g.addEdge(2, 4, 5)\n",
    "g.addEdge(2, 3, 1)\n",
    "g.addEdge(2, 5, -20)\n",
    "g.addEdge(4, 3, -8)\n",
    "g.addEdge(5, 4, 1)\n",
    "\n",
    " \n",
    "#Print the solution\n",
    "g.BellmanFord(0)    "
   ]
  },
  {
   "cell_type": "markdown",
   "metadata": {},
   "source": [
    "## Ethernet and IEEE802.3\n",
    "Dimensione massima: 1500  \n",
    "Dimensione minima: 46  \n",
    "Un pacchetto Ethernet parte con un preamble: utilizzato per sincronizzare le due schede.  \n",
    "Start Frame Delimiter, Destination Address  \n",
    "  \n",
    "*NIC*: Network Interface Card  \n",
    "0x0800: La natura dei dati trasportati è di tipo IP  \n",
    "  \n",
    "### Ethernet Frame\n",
    "\n",
    "<table>\n",
    "<tr>\n",
    "    <th>Layer</th>\n",
    "    <th>Preamble</th>\n",
    "    <th>Start of Frame Delimiter (SFD)</th>\n",
    "    <th>Mac Destination</th>\n",
    "    <th>Mac Source</th>\n",
    "    <th>802.1Q tag (optional)</th>\n",
    "    <th>Ethertype (Ethernet II) or length (802.3)</th>\n",
    "    <th>Payload</th>\n",
    "    <th>Frame Check Sequence (32-bit CRC)</th>\n",
    "    <th>Interpacket Gap</th>\n",
    "</tr>\n",
    "\n",
    "<tr>\n",
    "    <td></td>\n",
    "    <td>7</td>\n",
    "    <td>1</td>\n",
    "    <td>6</td>\n",
    "    <td>6</td>\n",
    "    <td>(4)</td>\n",
    "    <td>2</td>\n",
    "    <td>46-1500</td>\n",
    "    <td>4</td>\n",
    "    <td>12</td>\n",
    "</tr>\n",
    "<tr>\n",
    "    <td>Layer 2 Ethernet Frame</td>\n",
    "    <td></td>\n",
    "    <td></td>\n",
    "    <td colspan=\"6\">← 64–1522 octets →</td>\n",
    "    <td></td>\n",
    "</tr>\n",
    "\n",
    "<tr>\n",
    "    <td>Layer 1 Ethernet packet &amp; IPG</td>\n",
    "    <td colspan=\"8\">← 72–1530 octets →</td>\n",
    "    <td>← 12 octets →</td>\n",
    "</tr>\n",
    "</table>\n",
    "\n",
    "\n",
    "### Gigabit Ethernet\n",
    "- 1000Mbps\n",
    "- IEEE 802.3z\n",
    "\n",
    "### 10Gbit Ethernet\n",
    "- Identica struttura e funzionalità della Gigabit, ma con bitrate di 10Gbps\n",
    "\n",
    "### Token Ring\n",
    "Standard IBM, 802.5, 16Mbps  \n",
    "Parla solo chi ha il token, dunque non esiste il concetto di collisione \n",
    "<center>\n",
    "<img src=\"http://www.datacottage.com/nch/index_htm_files/trani.gif\" alt=\"Token Ring Illustration\"/>\n",
    "</center>"
   ]
  },
  {
   "cell_type": "markdown",
   "metadata": {},
   "source": [
    "### FDDI\n",
    "Fiber Distributed Data Interface  \n",
    "- Logical Ring, Physical Ring or Start\n",
    "- Dual counter-rotating rings\n",
    "- 100Mbps\n",
    "- ISO-9314\n",
    "- Fiber, UTP or STP\n",
    "- Old Backbone Technology\n",
    "\n",
    "### ATM (Asynchronous Transfer Mode)\n",
    "Quando metti il primo bit della cella, sai esattamente dov'è l'ultimo byte (53 byte dopo)  \n",
    "Unico standard in grado di garantire QoS vera.  \n",
    "- 25, 155, 622 Mbps or 2.4 Gbps\n",
    "- Cell based vs. frame transmissions\n",
    "    - 53 byte cells\n",
    "- Negotiated servic connection\n",
    "    - E2E connections\n",
    "    - Virtual Circuits\n",
    "- Switch-based\n",
    "- Dedicated Capacity\n",
    "- Not an IEEE standard  \n",
    "  \n",
    "Morto perché l'architettura richiedeva cambiamenti a livelli superiori (sopratutto a livello di management)"
   ]
  },
  {
   "cell_type": "markdown",
   "metadata": {},
   "source": [
    "### Strato di Rete (Livello 3)\n",
    "- Scelta del percorso di comunicazione tra due host\n",
    "- Controllo del flusso di dati\n",
    "- Alcuni dei protocolli caratterizzanti di questo livello:\n",
    "    - Protocolli di rete\n",
    "        - IP\n",
    "        - Appletalk\n",
    "        - Novell IPX\n",
    "        - X.25\n",
    "        - ...\n",
    "    - Protocolli di routing\n",
    "        - RIP (Routing Information Protocol)\n",
    "        - OSPF\n",
    "        - IGRB, EIGRP\n",
    "        - BGP\n",
    "        - ...\n",
    "  \n",
    "### Attributi di una LAN\n",
    "- Affidabilità (tecnologia consolidata)\n",
    "- Flessibilità\n",
    "- Modularità\n",
    "- Espandibilità\n",
    "- Gestibilità\n",
    "- Elementi qualificanti di una LAN\n",
    "    - Protocolli standard (**IEEE 802**)\n",
    "    - Cablaggio strutturato (**EIA 568, ISO 11801**)"
   ]
  },
  {
   "cell_type": "markdown",
   "metadata": {},
   "source": [
    "### Reti LAN: Interconnessione di sistemi\n",
    "- Scopo: Comunicazione tra LAN o segmenti di una LAN\n",
    "- Distinzione delle apparecchiature in funzione del livello OSI al quale operano\n",
    "\n",
    "#### Repeater, Bridge, Router, Gateway\n",
    "![Repeater, Bridge, Router, Gateway OSI scheme](imgs/repeater-bridge-router-gateway-osi.png)"
   ]
  },
  {
   "cell_type": "markdown",
   "metadata": {},
   "source": [
    "### Switch\n",
    "#### Tipologie\n",
    "- Non gestibile\n",
    "- Gestibili (manageable): con interfaccia di gestione (via seriale o rete (HTTPS, Telnet, ...))\n",
    "    - VLAN\n",
    "    - QoS\n",
    "    - Solo Layer 2\n",
    "    - Anche Layer 2\n",
    "- Switch con funzionalità PoE\n",
    "    - 802.3af (802.3at Type 1)\n",
    "    - 802.3at Type 2"
   ]
  },
  {
   "cell_type": "markdown",
   "metadata": {},
   "source": [
    "### VLAN\n",
    "La VLAN limita il broadcast  \n",
    "Si sconisglia di usare VLAN1"
   ]
  },
  {
   "cell_type": "markdown",
   "metadata": {},
   "source": [
    "### Trunk\n",
    "IEEE 802.1Q"
   ]
  },
  {
   "cell_type": "markdown",
   "metadata": {},
   "source": [
    "## IP\n",
    "### IPv4\n",
    "#### Classi\n",
    "##### Classi A\n",
    "0nnnnnnn hhhhhhhh hhhhhhhh hhhhhhhh  \n",
    "0 ... 127\n",
    "##### Classi B\n",
    "10nnnnnn hhhhhhhh hhhhhhhh hhhhhhhh\n",
    "128 ... 191\n",
    "##### Classi C\n",
    "110nnnnn hhhhhhhh hhhhhhhh hhhhhhhh  \n",
    "192 ... 255\n",
    "\n",
    "#### Subnetting e Supernetting\n",
    "##### Subnetting\n",
    "Aumento della lunghezza della parti di rete della maschera e quindi suddivisione in più sottoreti\n",
    "##### Supernetting\n",
    "Diminuzione della parte di rete della maschere quindi unione di più reti\n",
    "\n",
    "#### Example\n",
    "##### Example 1\n",
    "**IP**: 192.168.1.10 /24  \n",
    "= 192.168.1.10  \n",
    "Subnetmask: 255.255.255.0  \n",
    "11111111.11111111.11111111.00000000 = 24 times \"1\"\n",
    "\n",
    "\n",
    "#### Indirizzi\n",
    "$n-2$  \n",
    ".0 indica la rete, .255 indica l'indirizzo di broadcast\n",
    "\n",
    "#### Calcolo di Subnet\n"
   ]
  },
  {
   "cell_type": "markdown",
   "metadata": {},
   "source": []
  },
  {
   "cell_type": "markdown",
   "metadata": {},
   "source": [
    "### Socket\n",
    "IP:PORT IP:PORT"
   ]
  },
  {
   "cell_type": "markdown",
   "metadata": {},
   "source": [
    "### Sessione\n",
    "Si occupa di:\n",
    "- Stabilire, gestire, terminare sessioni fra applicazioni\n",
    "\n",
    "### Presentazione\n",
    "Si occupa di:\n",
    "- Cifrare i dati\n",
    "- Comprimere i dati\n",
    "- Conversione di dati"
   ]
  },
  {
   "cell_type": "markdown",
   "metadata": {},
   "source": [
    "### Gateway\n",
    "L3-L7"
   ]
  },
  {
   "cell_type": "markdown",
   "metadata": {},
   "source": []
  }
 ],
 "metadata": {
  "kernelspec": {
   "display_name": "Python 3",
   "language": "python",
   "name": "python3"
  },
  "language_info": {
   "codemirror_mode": {
    "name": "ipython",
    "version": 3
   },
   "file_extension": ".py",
   "mimetype": "text/x-python",
   "name": "python",
   "nbconvert_exporter": "python",
   "pygments_lexer": "ipython3",
   "version": "3.6.4"
  }
 },
 "nbformat": 4,
 "nbformat_minor": 2
}
