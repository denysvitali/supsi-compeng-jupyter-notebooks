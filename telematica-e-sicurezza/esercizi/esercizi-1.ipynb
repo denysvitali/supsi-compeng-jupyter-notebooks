{
 "cells": [
  {
   "cell_type": "markdown",
   "metadata": {},
   "source": [
    "# Corso di Telematica: Esercizi (1)"
   ]
  },
  {
   "cell_type": "markdown",
   "metadata": {},
   "source": [
    "1. Cosa s'intende con il termine \"Default Gateway\"?\n",
    "Con \"Default Gateway si intende il router con il quale ci si connette alla rete esterna (WAN)\n",
    "\n",
    "  a) Con quale tipo di protocollo viene utilizzato questo concetto? IP\n",
    "\n",
    "2. Pianificare una rete che soddisfi i seguenti requisiti:\n",
    "  * Numero totale di stazioni: meno di 200.   \n",
    "    IP a disposizione: una classe C (193.248.172.xxx)\n",
    "  * Il router $1$ collega una rete $\\alpha$ di 38 stazioni tramite il router $2$ alla rete principale $\\beta$ che conta 100 macchine.\n",
    "  * Il router $2$ collega una rete $\\beta$ attraverso il router $3$ alla rete $\\gamma$ che conta 24 end systems.  \n",
    "    \n",
    "   \n",
    "  a. Studiare una strategia di subnetting che ottimizzi l'impiego dei numeri IP.  \n",
    "   Schizzare il piano della situazione.  \n",
    "  b. Affinché due stazioni sulle reti $\\alpha$ e $\\beta$ possano interagire utilizzano il comando PING, come devono essere impostati i default gateway delle stazioni costituenti le due reti?"
   ]
  },
  {
   "cell_type": "markdown",
   "metadata": {},
   "source": [
    "## Risoluzione\n",
    "1.  \n",
    "  a) Con \"Default Gateway si intende il router con il quale ci si connette alla rete esterna (WAN)  \n",
    "  b) IP\n",
    "  \n",
    "2.  \n",
    "  a)  \n",
    "    \n",
    "| Rete | Hosts | Subnet |\n",
    "| ---- | ----- | ------ |\n",
    "| $\\alpha$ | 38 | /26 |\n",
    "| $\\beta$ | 100 | /25 |\n",
    "| $\\gamma$ | 24 | /27 |"
   ]
  },
  {
   "cell_type": "markdown",
   "metadata": {},
   "source": [
    "b) "
   ]
  }
 ],
 "metadata": {
  "kernelspec": {
   "display_name": "Python 3",
   "language": "python",
   "name": "python3"
  },
  "language_info": {
   "codemirror_mode": {
    "name": "ipython",
    "version": 3
   },
   "file_extension": ".py",
   "mimetype": "text/x-python",
   "name": "python",
   "nbconvert_exporter": "python",
   "pygments_lexer": "ipython3",
   "version": "3.6.4"
  }
 },
 "nbformat": 4,
 "nbformat_minor": 2
}
