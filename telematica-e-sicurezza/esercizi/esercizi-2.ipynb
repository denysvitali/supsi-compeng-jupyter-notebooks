{
 "cells": [
  {
   "cell_type": "markdown",
   "metadata": {},
   "source": [
    "# Esercizi 2"
   ]
  },
  {
   "cell_type": "markdown",
   "metadata": {},
   "source": [
    "## Commentare"
   ]
  },
  {
   "cell_type": "markdown",
   "metadata": {},
   "source": [
    "```\n",
    "00 a0 c5 2c 6b b7 00 00 0c 31 98 92 08 00 45 00\n",
    "00 28 01 17 40 00 7e 06 c0 84 c0 a8 02 03 3f fb\n",
    "38 8e 05 2b 00 50 00 03 24 d6 85 e3 8c 4e 50 10\n",
    "22 38 15 e2 00 00 55 53 45 52 20 61\n",
    "```"
   ]
  },
  {
   "cell_type": "markdown",
   "metadata": {},
   "source": [
    "#### EtherType CheatSheet\n",
    "`0x0800` IP, `0x0806` ARP  \n",
    "For more EtherType values, check [its relative Wikipedia section](https://en.wikipedia.org/wiki/EtherType#Examples)\n",
    "\n",
    "### Packet Analysis\n",
    "  \n",
    "  \n",
    "<span style=\"color: #00BAA8\">00 a0 c5 2c 6b b7</span> <span style=\"color: #71B300\">00 00 0c 31 98 92 </span> <span style=\"color: #c0392b\">08 00</span> <span style=\"color: #2980b9\">45 00  \n",
    "00 28 01 17 40 00 7e 06 c0 84 c0 a8 02 03 3f fb  \n",
    "38 8e 05 2b 00 50 00 03 24 d6 85 e3 8c 4e 50 10  \n",
    "22 38 15 e2 00 00 55 53</span> <span style=\"color: #6A1B9A\">45 52 20 61</span>  \n",
    "  \n",
    "- <span style=\"color: #00BAA8\">Source Mac Address</span>  \n",
    "- <span style=\"color: #71B300\">Destination Mac Address</span>  \n",
    "- <span style=\"color: #c0392b\">Ether Type / Payload length => 0800 = IPv4</span>\n",
    "- <span style=\"color: #2980b9\">Payload</span>\n",
    "- <span style=\"color: #6A1B9A\">CRC</span>  "
   ]
  },
  {
   "cell_type": "markdown",
   "metadata": {},
   "source": [
    "### Payload Analysis"
   ]
  },
  {
   "cell_type": "markdown",
   "metadata": {},
   "source": [
    "<span style=\"color: #1abc9c\">4</span><span style=\"color: #6a00ff\">5</span> <span style=\"color: #a4c400\">00</span> <span style=\"color: #c0392b\">00 28</span>  \n",
    "<span style=\"color: #fa6800\">01 17</span> <span style=\"color: #2980b9\">40 00</span>  \n",
    "<span style=\"color: #008a00\">7e</span> <span style=\"color: #d80073\">06</span> <span style=\"color: #00aba9\">c0 84</span>  \n",
    "<span style=\"color: #7A7574\">c0 a8 02 03</span>   \n",
    "<span style=\"color: #BF0077\">3f fb 38 8e</span>    \n",
    "<span style=\"color: #f0a30a\">05 2b 00 50  \n",
    "00 03 24 d6  \n",
    "85 e3 8c 4e  \n",
    "50 10 22 38  \n",
    "15 e2 00 00  \n",
    "55 53 </span>  \n",
    "\n",
    "#### [Analisi](https://en.wikipedia.org/wiki/IPv4#Header)\n",
    "- <span style=\"color: #1abc9c\">Version</span>\n",
    "- <span style=\"color: #6a00ff\">IHL - Header length (=5)</span>\n",
    "- <span style=\"color: #a4c400\">ToS / DSCP (6 bit) + ECN (2 bit)</span>\n",
    "- <span style=\"color: #c0392b\">Total Length</span>\n",
    "- <span style=\"color: #fa6800\">Identification</span>\n",
    "- <span style=\"color: #2980b9\">Flags (3 bit) + Fragment Offset (13 bit)</span>\n",
    "- <span style=\"color: #008a00\">TTL (=126)</span>\n",
    "- <span style=\"color: #d80073\">Protocol (0x06 = TCP) </span>\n",
    "- <span style=\"color: #00aba9\">Header Checksum</span>\n",
    "- <span style=\"color: #7A7574\">Source IP Address (192.168.2.3)</span>\n",
    "- <span style=\"color: #BF0077\">Destination IP Address (63.251.56.142)</span>\n",
    "- <span style=\"color: #f0a30a\">Data (because IHL <= 5)</span>\n",
    "\n",
    "##### Verifica della checksum\n",
    "4500 + 0028 + 0117 + 4000 + 7e06 + c084 + c0a8 + 0203 + 3ffb + 388e =  \n",
    "2FFFD =  \n",
    "FFFD + 2 = FFFF ✓"
   ]
  },
  {
   "cell_type": "markdown",
   "metadata": {},
   "source": [
    "#### [TCP Data Analysis](https://en.wikipedia.org/wiki/Transmission_Control_Protocol#TCP_segment_structure)"
   ]
  },
  {
   "cell_type": "markdown",
   "metadata": {},
   "source": [
    "<span style=\"color: #038387\">05 2b</span> <span style=\"color: #C239B3\">00 50</span>  \n",
    "<span style=\"color: #6B69D6\">00 03 24 d6</span>  \n",
    "<span style=\"color: #F7630C\">85 e3 8c 4e</span>  \n",
    "50 10 22 38  \n",
    "15 e2 00 00  \n",
    "55 53 \n",
    "\n",
    "Analisi:  \n",
    "- <span style=\"color: #038387\">Source Port</span>  \n",
    "- <span style=\"color: #C239B3\">Destination Port</span>\n",
    "- <span style=\"color: #6B69D6\">Sequence Number</span>\n",
    "- <span style=\"color: #F7630C\">ACK Number</span>"
   ]
  }
 ],
 "metadata": {
  "kernelspec": {
   "display_name": "Python 3",
   "language": "python",
   "name": "python3"
  },
  "language_info": {
   "codemirror_mode": {
    "name": "ipython",
    "version": 3
   },
   "file_extension": ".py",
   "mimetype": "text/x-python",
   "name": "python",
   "nbconvert_exporter": "python",
   "pygments_lexer": "ipython3",
   "version": "3.6.4"
  }
 },
 "nbformat": 4,
 "nbformat_minor": 2
}
