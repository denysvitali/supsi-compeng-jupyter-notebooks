{
 "cells": [
  {
   "cell_type": "markdown",
   "metadata": {},
   "source": [
    "# Sistemi per la persistenza dei dati\n",
    "Course: M02067 - Sistemi per la persistenza dei dati  \n",
    "Teachers: Roberto Mastropietro, Patrick Ceppi, Sandra Bernaschina \n",
    "  \n",
    "## Indici\n",
    "- I dati vengono mantenuti dal DBMS su HDD  \n",
    "- Gli HDD sono periferiche lente  \n",
    "- Il tempo di accesso ai dati è influenzato dai numeri di accessi a disco per poterli recuperari  \n",
    "  \n",
    "Meno accessi a disco, migliori le performances \n",
    "Servono strumenti che consentano un accesso intelligente ai dati e minimizzano le letture di blocchi dal disco:  \n",
    "- Buffering dei dati  \n",
    "- Indici\n"
   ]
  },
  {
   "cell_type": "code",
   "execution_count": null,
   "metadata": {},
   "outputs": [],
   "source": []
  }
 ],
 "metadata": {
  "kernelspec": {
   "display_name": "Python 3",
   "language": "python",
   "name": "python3"
  },
  "language_info": {
   "codemirror_mode": {
    "name": "ipython",
    "version": 3
   },
   "file_extension": ".py",
   "mimetype": "text/x-python",
   "name": "python",
   "nbconvert_exporter": "python",
   "pygments_lexer": "ipython3",
   "version": "3.6.4"
  }
 },
 "nbformat": 4,
 "nbformat_minor": 2
}
