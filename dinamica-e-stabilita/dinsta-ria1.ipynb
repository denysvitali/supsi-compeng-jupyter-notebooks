{
 "cells": [
  {
   "cell_type": "markdown",
   "metadata": {},
   "source": [
    "# Dinamica e Stabilità"
   ]
  },
  {
   "cell_type": "markdown",
   "metadata": {},
   "source": [
    "# Sistemi dinamici\n",
    "## Introduzione\n",
    "### Definizione di sistema\n",
    "> Aggregazione di parti che formano un tutt'uno e che interagisvcono con il suo ambiente tramite entrate ed uscite\n",
    "### SISO vs MIMO\n",
    "SISO = Single Input, Single Output  \n",
    "MIMO = Multiple Input, Multiple Output\n",
    "### Proprietà di sistema\n",
    "#### Statica vs Dinamica\n",
    "Statico\n",
    "> Il sistema è denominato statico se l'uscita $y$ al tempo $t$ dipende unicamente dal valore dell'entrata $u$ al tempo $t$\n",
    "  \n",
    "Dinamico\n",
    "> Il sistema è dinamico se l'uscita dipende anche dalla \"storia\" passata del sistema. Il sistema dinamico ha memoria di quello che è successo nel passato.\n",
    "\n",
    "#### Stato\n",
    "Anche chiamato \"Condizioni Iniziali\"\n",
    "> Espresso con un certo numero di variabili. Il numero minimo delle variabili necessarie per determinare lo stato viene chiamato _ordine_ del sistema\n",
    "\n",
    "#### Invarianza nel tempo\n",
    "> Un sistema è _invariante nel tempo_ quando l'uscita ottenuta per un sistema con stato iniziale ed entrata dati è semplicemente traslata nel tempo se, a partià di stato iniziale, l'entrata del sistema è traslata nel tempo.\n",
    "\n",
    "\\begin{equation}\n",
    "y(t) = f(x_0, u(t))\\quad \\Longrightarrow \\quad y(t-\\tau) = f(x_0, u(t-\\tau))\n",
    "\\end{equation}\n",
    "\n",
    "#### Linearità\n",
    "Un sistema è lineare quando soddisfa la condizione:\n",
    "\\begin{equation}\n",
    "f(\\alpha \\cdot x + \\beta \\cdot y) = \\alpha \\cdot f(x) + \\beta \\cdot f(y)\n",
    "\\end{equation}"
   ]
  },
  {
   "cell_type": "markdown",
   "metadata": {},
   "source": [
    "## Modellazione\n",
    "### Mediante grafi di flusso\n",
    "#### Rappresentazione\n",
    "> Per analizzare sistemi _lineari_ si possono usare i diagrammi di flusso di segnali (signal-flow graphs). In questo tipo di rappresentazione le variabili sono rappresentate da nodi, le dipendenze lineari tra le variabili da archi diretti pesati.  \n",
    "\n",
    "Quando il peso di un arco è omesso, esso vale 1."
   ]
  },
  {
   "cell_type": "markdown",
   "metadata": {},
   "source": [
    "#### Operazioni sui diagrammi di flusso\n",
    "##### Riduzione secondo Mason\n",
    "###### Percorso\n",
    "> Sequenza di linee direzionate che conducono da un nodo ad un altro senza passare più volte dallo stesso nodo. Il valore di un percorso è il prodotto del valore di tutte le linee che compongono il percorso."
   ]
  },
  {
   "cell_type": "markdown",
   "metadata": {},
   "source": [
    "###### Loop\n",
    "> Percorso nel quale il nodo di partenza ed il nodo di arrivo sono identici. Il valore del loop è il prodotto del valore di tutte le linee che compongono il loop.\n"
   ]
  },
  {
   "cell_type": "markdown",
   "metadata": {},
   "source": [
    "###### Nodo indipendente\n",
    "Nono verso il quale non sono puntate linee direzionate."
   ]
  },
  {
   "cell_type": "markdown",
   "metadata": {},
   "source": [
    "###### Determinante\n",
    "Il determinante di un diagramma è dato dall'espressione:\n",
    "  \n",
    "\\begin{equation}\n",
    "\\Delta = 1 - \\sum_i L_i +\\sum_{ij} L_i \\cdot L_j + \\sum_{ijk} L_i \\cdot L_j \\cdot L_k + \\sum_{ijkl} L_i \\cdot L_j \\cdot L_k \\cdot L_l\\  +\\ ...\n",
    "\\end{equation}\n"
   ]
  },
  {
   "cell_type": "markdown",
   "metadata": {},
   "source": [
    "where:   \n",
    "  \n",
    "- $\\sum_i L_i$ is the loop gain of each closed loop in the system,\n",
    "- $\\sum_{ij} L_i \\cdot L_j$ is the product of the loop gains of any two non-touching loops (no common nodes),\n",
    "- $\\sum_{ijk} L_i \\cdot L_j \\cdot L_k$ is the product of the loop gains of any three pairwise nontouching loops"
   ]
  },
  {
   "cell_type": "markdown",
   "metadata": {},
   "source": [
    "##### Calcolo del valore di un nodo in funzione dei nodi indipendenti"
   ]
  },
  {
   "cell_type": "markdown",
   "metadata": {},
   "source": [
    "\\begin{equation}\n",
    "x_j = \\sum_i G_{ij} \\cdot x_i\n",
    "\\end{equation}\n",
    "Dove $x_i$ è un nodo indipendente.  \n",
    "  \n",
    "Il coefficiente $G{ij}$ è:\n",
    "\\begin{equation}\n",
    "G_{ij} = \\frac{\\sum_k P_{ijk} \\cdot \\Delta_{ijk}}{\\Delta}\n",
    "\\end{equation}\n",
    "\n",
    "dove:  \n",
    "- $P_{ijk}$ è il valore di un percorso tra il nodo $x_i$ e $x_j$\n",
    "- $\\Delta_{ijk}$ è il determinante del diagramma rimanente dopo che il diagramma originale è stato ridotto rimuovendo i nodi che si trovano sul percorso.  \n",
    "  \n",
    "La somma $\\sum_k$ è eseguita su tutti i percorsi esistenti tra il nodo $x_i$ ed il nodo $x_j$"
   ]
  },
  {
   "cell_type": "markdown",
   "metadata": {},
   "source": [
    "##### Scalare un nodo\n",
    "> Nella pratica è spesso necessario scalare il valore di un nodo senza però modificare i valori degli altri nodi. Si procede come segue assumendo che il valore di un nodo deve essere diviso per $k$: si crea cerchio attorno al nodo considerato. Tutti i valori delle linee entranti nel cerchio devono essere divise per $k$, tutte quelle uscenti devono essere moltiplicate per $k$."
   ]
  },
  {
   "cell_type": "markdown",
   "metadata": {},
   "source": [
    "Questa procedura può essere ripetuta quante volte necessarie. Essa può essere anche applicata a più nodi contemporaneamente, usando un cerchio che include tutti i nodi considerati."
   ]
  },
  {
   "cell_type": "markdown",
   "metadata": {},
   "source": [
    "## Rappresentazioni\n",
    "Sistemi dinamici possono essere descritti con diversi formalismi:\n",
    "- ED\n",
    "- Rappresentazioni di stato\n",
    "- Funzione di trasferimento\n",
    "- Rappresentazione temporale\n",
    "  \n",
    "### Rappresentazione di stato\n",
    "#### Equazioni di stato\n",
    "La rappresentazione nello spazio degli stati permette di sostituire ad un ED un sistema di equazioni differenziali di primo ordine.  \n",
    "In generale la rappresentazione di stato di un sistema prende la forma seguente:\n",
    "\\begin{equation}\n",
    "\\dot{x_1} = f_1(x_1, x_2, ..., x_n, u_1, u_2, ..., u_m, t) \\\\\n",
    "\\dot{x_2} = f_2(x_1, x_2, ..., x_n, u_1, u_2, ..., u_m, t) \\\\\n",
    "\\vdots \\\\\n",
    "\\dot{x_n} = f_n(x_1, x_2, ..., x_n, u_1, u_2, ..., u_m, t) \\\\\n",
    " \\\\[10pt] \\quad \\\\\n",
    "\\dot{y_1} = g_1(x_1, x_2, ..., x_n, u_1, u_2, ..., u_m, t) \\\\\n",
    "\\vdots \\\\\n",
    "\\dot{y_k} = g_k(x_1, x_2, ..., x_n, u_1, u_2, ..., u_m, t) \\\\\n",
    "\\end{equation}"
   ]
  },
  {
   "cell_type": "markdown",
   "metadata": {},
   "source": [
    "In notazione vettoriale possiamo scrivere:\n",
    "\\begin{equation}\n",
    "\\boldsymbol{\\dot{x}} = \\boldsymbol{f}(\\boldsymbol{x}, \\boldsymbol{u}, t) \\\\\n",
    "\\boldsymbol{y} = \\boldsymbol{g}(\\boldsymbol{x}, \\boldsymbol{u}, t) \\\\\n",
    "\\end{equation}"
   ]
  },
  {
   "cell_type": "markdown",
   "metadata": {},
   "source": [
    "$x_1$, $x_2$, ..., $x_n$ sono dette _variabili di stato_, $\\boldsymbol{x}$ è detto _vettore delle var. di stato_."
   ]
  },
  {
   "cell_type": "markdown",
   "metadata": {},
   "source": [
    "In sistemi lineari e invarianti nel tempo (LTI) la rappresentazione mediante $f_i$ e $g_i$ può essere sostituita da una rappresentazione matriciale. In questo caso i coefficienti delle variabili di stato e delle entrate sono contenuti in quattro matrici $\\boldsymbol{A}$, $\\boldsymbol{B}$, $\\boldsymbol{C}$, $\\boldsymbol{D}$.  \n",
    "La formulazione dell'equazione nello spazio degli stati per LTI con $n$ variabili. $m$ entrate, $p$ uscite (detto MIMO) è data da:  \n",
    "  \n",
    "\\begin{equation}\n",
    "\\boldsymbol{\\dot{x}} = A \\cdot \\boldsymbol{x} + B \\cdot \\boldsymbol{u}\\\\\n",
    "\\boldsymbol{y} = C \\cdot \\boldsymbol{x} + D \\cdot \\boldsymbol{u} \\\\\n",
    "\\end{equation}\n",
    "in cui:\n",
    "- $A$ è una $n \\times n$\n",
    "- $B$ una $n \\times m$\n",
    "- $C$ una $p \\times n$\n",
    "- $D$ una $p \\times m$."
   ]
  },
  {
   "cell_type": "markdown",
   "metadata": {},
   "source": [
    "In un **SISO** $B$ e $C$ sono vettori e $D$ uno scalare. Spesso $D$ vale zero non essendoci un collegamento diretto tra entrata e uscita (feed-through).\n",
    "  \n",
    "La matrice del sistema viene così rappresentata:\n",
    "\\begin{equation}\n",
    "    S = \\left[\n",
    "    \\begin{array}{c|c}\n",
    "      A & B\\\\\n",
    "      \\hline\n",
    "      C & D\n",
    "    \\end{array}\n",
    "    \\right]\n",
    "\\end{equation}"
   ]
  },
  {
   "cell_type": "markdown",
   "metadata": {},
   "source": [
    "#### Trasformazione di variabili di stato\n",
    "È possibile passare ad altre rappresentazioni di stato conoscendo la matrice di trasformazione $P$ che lega le variabili di stato attuali $\\boldsymbol{x}$ con le nuove variabili di stato $\\boldsymbol{z}$ secondo l'applicazione lineare:\n",
    "\\begin{equation}\n",
    "\\boldsymbol{x} = P \\cdot \\boldsymbol{z}\n",
    "\\end{equation}"
   ]
  },
  {
   "cell_type": "markdown",
   "metadata": {},
   "source": [
    "Di conseguenza:\n",
    "\\begin{alignat*}{3}\n",
    "\\boldsymbol{\\dot{z}} & ={} & \\quad (P^{-1} \\cdot A \\cdot P) \\cdot \\boldsymbol{z} & +{} & (P^{-1} \\cdot B) \\cdot \\boldsymbol{u} && \\\\\n",
    "\\boldsymbol{y} & ={} & \\quad (C \\cdot P) \\cdot \\boldsymbol{z}\\ & +{} & D \\cdot \\boldsymbol{u}\n",
    "\\end{alignat*}"
   ]
  },
  {
   "cell_type": "markdown",
   "metadata": {},
   "source": [
    "#### Trasformazione da rappresentazione di stato a equazione differenziale\n",
    "La matrice\n",
    "\\begin{equation}\n",
    "P = {\\begin{pmatrix}\n",
    "q \\\\\n",
    "q \\cdot A_{orig} \\\\\n",
    "\\vdots \\\\\n",
    "q \\cdot A^{n-1}_{orig}\n",
    "\\end{pmatrix}}^{-1}\n",
    "\\end{equation}\n",
    "dove\n",
    "\\begin{equation}\n",
    "q = [0 \\dots 0\\ 1] \\cdot [B_{orig},\\ A_{orig} \\cdot B_{orig},\\ A^2_{orig} \\cdot B_{orig},\\ \\dots,\\ A^{n-1}_{orig} \\cdot B_{orig}]^{-1}\n",
    "\\end{equation}"
   ]
  },
  {
   "cell_type": "markdown",
   "metadata": {},
   "source": [
    "trasforma una rappresentazione di stato qualsiasi nella nuova forma\n",
    "$$\\begin{equation}\n",
    "    S =\\left[\n",
    "    \\begin{array}{c|c}\n",
    "      A & B\\\\\n",
    "      \\hline\n",
    "      C & D\n",
    "    \\end{array}\n",
    "    \\right] = \\left[\n",
    "        \\begin{array}{c|c}\n",
    "         \\begin{matrix}\n",
    "          0 & 1 & 0 & \\dots & 0 \\\\\n",
    "          0 & 0 & 1 & \\dots & 0 \\\\\n",
    "          \\vdots & \\vdots & \\vdots & \\ddots & \\vdots\\\\\n",
    "          0 & 0 & 0 & \\dots & 1 \\\\\n",
    "          -a_0 & -a_1 & -a_2 & \\dots & -a_{n-1}\n",
    "         \\end{matrix} \n",
    "         & \\begin{matrix}\n",
    "            0 \\\\\n",
    "            0 \\\\\n",
    "            \\vdots \\\\\n",
    "            0 \\\\\n",
    "            1\n",
    "         \\end{matrix}\n",
    "         \\\\\n",
    "         \\hline\n",
    "         \\begin{matrix}\n",
    "            b_0\\ \\ & b_1\\ &\\ b_2&\\ \\dots &\\ \\ b_{n-1} \\\\\n",
    "         \\end{matrix} & 0\n",
    "          \\end{array}\n",
    "    \\right]\n",
    "\\end{equation}$$\n"
   ]
  },
  {
   "cell_type": "markdown",
   "metadata": {},
   "source": [
    "Da questa rappresentazione di stato (_controller normal form_) si può risalire direttamente all'equazione differenziale lineare  \n",
    "  \n",
    "\\begin{equation}\n",
    "y^{(n)} + a_{n-1} \\cdot y^{(n-1)} + \\dots + a_1 \\cdot \\dot{y} + a_0 \\cdot y = b_{n-1} \\cdot u^{(n-1)} + \\dots + b_1 \\cdot \\dot{u} + b_0 \\cdot u\n",
    "\\end{equation}"
   ]
  }
 ],
 "metadata": {
  "kernelspec": {
   "display_name": "Python 3",
   "language": "python",
   "name": "python3"
  },
  "language_info": {
   "codemirror_mode": {
    "name": "ipython",
    "version": 3
   },
   "file_extension": ".py",
   "mimetype": "text/x-python",
   "name": "python",
   "nbconvert_exporter": "python",
   "pygments_lexer": "ipython3",
   "version": "3.6.5"
  }
 },
 "nbformat": 4,
 "nbformat_minor": 2
}
