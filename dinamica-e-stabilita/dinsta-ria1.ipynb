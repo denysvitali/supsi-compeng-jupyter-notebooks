{
 "cells": [
  {
   "cell_type": "markdown",
   "metadata": {},
   "source": [
    "# Dinamica e Stabilità"
   ]
  },
  {
   "cell_type": "markdown",
   "metadata": {},
   "source": [
    "# Sistemi dinamici\n",
    "## Introduzione\n",
    "### Definizione di sistema\n",
    "> Aggregazione di parti che formano un tutt'uno e che interagisvcono con il suo ambiente tramite entrate ed uscite\n",
    "### SISO vs MIMO\n",
    "SISO = Single Input, Single Output  \n",
    "MIMO = Multiple Input, Multiple Output\n",
    "### Proprietà di sistema\n",
    "#### Statica vs Dinamica\n",
    "Statico\n",
    "> Il sistema è denominato statico se l'uscita $y$ al tempo $t$ dipende unicamente dal valore dell'entrata $u$ al tempo $t$\n",
    "  \n",
    "Dinamico\n",
    "> Il sistema è dinamico se l'uscita dipende anche dalla \"storia\" passata del sistema. Il sistema dinamico ha memoria di quello che è successo nel passato.\n",
    "\n",
    "#### Stato\n",
    "Anche chiamato \"Condizioni Iniziali\"\n",
    "> Espresso con un certo numero di variabili. Il numero minimo delle variabili necessarie per determinare lo stato viene chiamato _ordine_ del sistema\n",
    "\n",
    "#### Invarianza nel tempo\n",
    "> Un sistema è _invariante nel tempo_ quando l'uscita ottenuta per un sistema con stato iniziale ed entrata dati è semplicemente traslata nel tempo se, a partià di stato iniziale, l'entrata del sistema è traslata nel tempo.\n",
    "\n",
    "\\begin{equation}\n",
    "y(t) = f(x_0, u(t))\\quad \\Longrightarrow \\quad y(t-\\tau) = f(x_0, u(t-\\tau))\n",
    "\\end{equation}\n",
    "\n",
    "#### Linearità\n",
    "Un sistema è lineare quando soddisfa la condizione:\n",
    "\\begin{equation}\n",
    "f(\\alpha \\cdot x + \\beta \\cdot y) = \\alpha \\cdot f(x) + \\beta \\cdot f(y)\n",
    "\\end{equation}"
   ]
  },
  {
   "cell_type": "markdown",
   "metadata": {},
   "source": [
    "## Modellazione\n",
    "### Mediante grafi di flusso\n",
    "#### Rappresentazione\n",
    "> Per analizzare sistemi _lineari_ si possono usare i diagrammi di flusso di segnali (signal-flow graphs). In questo tipo di rappresentazione le variabili sono rappresentate da nodi, le dipendenze lineari tra le variabili da archi diretti pesati.  \n",
    "\n",
    "Quando il peso di un arco è omesso, esso vale 1."
   ]
  },
  {
   "cell_type": "markdown",
   "metadata": {},
   "source": [
    "#### Operazioni sui diagrammi di flusso\n",
    "##### Riduzione secondo Mason\n",
    "###### Percorso\n",
    "> Sequenza di linee direzionate che conducono da un nodo ad un altro senza passare più volte dallo stesso nodo. Il valore di un percorso è il prodotto del valore di tutte le linee che compongono il percorso."
   ]
  },
  {
   "cell_type": "markdown",
   "metadata": {},
   "source": [
    "###### Loop\n",
    "> Percorso nel quale il nodo di partenza ed il nodo di arrivo sono identici. Il valore del loop è il prodotto del valore di tutte le linee che compongono il loop.\n"
   ]
  },
  {
   "cell_type": "markdown",
   "metadata": {},
   "source": [
    "###### Nodo indipendente\n",
    "Nono verso il quale non sono puntate linee direzionate."
   ]
  },
  {
   "cell_type": "markdown",
   "metadata": {},
   "source": [
    "###### Determinante\n",
    "Il determinante di un diagramma è dato dall'espressione:\n",
    "  \n",
    "\\begin{equation}\n",
    "\\Delta = 1 - \\sum_i L_i +\\sum_{ij} L_i \\cdot L_j + \\sum_{ijk} L_i \\cdot L_j \\cdot L_k + \\sum_{ijkl} L_i \\cdot L_j \\cdot L_k \\cdot L_l\\  +\\ ...\n",
    "\\end{equation}\n"
   ]
  },
  {
   "cell_type": "markdown",
   "metadata": {},
   "source": [
    "where:   \n",
    "  \n",
    "- $\\sum_i L_i$ is the loop gain of each closed loop in the system,\n",
    "- $\\sum_{ij} L_i \\cdot L_j$ is the product of the loop gains of any two non-touching loops (no common nodes),\n",
    "- $\\sum_{ijk} L_i \\cdot L_j \\cdot L_k$ is the product of the loop gains of any three pairwise nontouching loops"
   ]
  },
  {
   "cell_type": "markdown",
   "metadata": {},
   "source": [
    "##### Calcolo del valore di un nodo in funzione dei nodi indipendenti"
   ]
  },
  {
   "cell_type": "markdown",
   "metadata": {},
   "source": [
    "\\begin{equation}\n",
    "x_j = \\sum_i G_{ij} \\cdot x_i\n",
    "\\end{equation}\n",
    "Dove $x_i$ è un nodo indipendente.  \n",
    "  \n",
    "Il coefficiente $G{ij}$ è:\n",
    "\\begin{equation}\n",
    "G_{ij} = \\frac{\\sum_k P_{ijk} \\cdot \\Delta_{ijk}}{\\Delta}\n",
    "\\end{equation}\n",
    "\n",
    "dove:  \n",
    "- $P_{ijk}$ è il valore di un percorso tra il nodo $x_i$ e $x_j$\n",
    "- $\\Delta_{ijk}$ è il determinante del diagramma rimanente dopo che il diagramma originale è stato ridotto rimuovendo i nodi che si trovano sul percorso.  \n",
    "  \n",
    "La somma $\\sum_k$ è eseguita su tutti i percorsi esistenti tra il nodo $x_i$ ed il nodo $x_j$"
   ]
  },
  {
   "cell_type": "markdown",
   "metadata": {},
   "source": [
    "##### Scalare un nodo\n",
    "> Nella pratica è spesso necessario scalare il valore di un nodo senza però modificare i valori degli altri nodi. Si procede come segue assumendo che il valore di un nodo deve essere diviso per $k$: si crea cerchio attorno al nodo considerato. Tutti i valori delle linee entranti nel cerchio devono essere divise per $k$, tutte quelle uscenti devono essere moltiplicate per $k$."
   ]
  },
  {
   "cell_type": "markdown",
   "metadata": {},
   "source": [
    "Questa procedura può essere ripetuta quante volte necessarie. Essa può essere anche applicata a più nodi contemporaneamente, usando un cerchio che include tutti i nodi considerati."
   ]
  },
  {
   "cell_type": "markdown",
   "metadata": {},
   "source": [
    "## Rappresentazioni\n",
    "Sistemi dinamici possono essere descritti con diversi formalismi:\n",
    "- ED\n",
    "- Rappresentazioni di stato\n",
    "- Funzione di trasferimento\n",
    "- Rappresentazione temporale\n",
    "  \n",
    "### Rappresentazione di stato\n",
    "#### Equazioni di stato\n",
    "La rappresentazione nello spazio degli stati permette di sostituire ad un ED un sistema di equazioni differenziali di primo ordine.  \n",
    "In generale la rappresentazione di stato di un sistema prende la forma seguente:\n",
    "\\begin{equation}\n",
    "\\dot{x_1} = f_1(x_1, x_2, ..., x_n, u_1, u_2, ..., u_m, t) \\\\\n",
    "\\dot{x_2} = f_2(x_1, x_2, ..., x_n, u_1, u_2, ..., u_m, t) \\\\\n",
    "\\vdots \\\\\n",
    "\\dot{x_n} = f_n(x_1, x_2, ..., x_n, u_1, u_2, ..., u_m, t) \\\\\n",
    " \\\\[10pt] \\quad \\\\\n",
    "\\dot{y_1} = g_1(x_1, x_2, ..., x_n, u_1, u_2, ..., u_m, t) \\\\\n",
    "\\vdots \\\\\n",
    "\\dot{y_k} = g_k(x_1, x_2, ..., x_n, u_1, u_2, ..., u_m, t) \\\\\n",
    "\\end{equation}"
   ]
  },
  {
   "cell_type": "markdown",
   "metadata": {},
   "source": [
    "In notazione vettoriale possiamo scrivere:\n",
    "\\begin{equation}\n",
    "\\boldsymbol{\\dot{x}} = \\boldsymbol{f}(\\boldsymbol{x}, \\boldsymbol{u}, t) \\\\\n",
    "\\boldsymbol{y} = \\boldsymbol{g}(\\boldsymbol{x}, \\boldsymbol{u}, t) \\\\\n",
    "\\end{equation}"
   ]
  },
  {
   "cell_type": "markdown",
   "metadata": {},
   "source": [
    "$x_1$, $x_2$, ..., $x_n$ sono dette _variabili di stato_, $\\boldsymbol{x}$ è detto _vettore delle var. di stato_."
   ]
  },
  {
   "cell_type": "markdown",
   "metadata": {},
   "source": [
    "In sistemi lineari e invarianti nel tempo (LTI) la rappresentazione mediante $f_i$ e $g_i$ può essere sostituita da una rappresentazione matriciale. In questo caso i coefficienti delle variabili di stato e delle entrate sono contenuti in quattro matrici $\\boldsymbol{A}$, $\\boldsymbol{B}$, $\\boldsymbol{C}$, $\\boldsymbol{D}$.  \n",
    "La formulazione dell'equazione nello spazio degli stati per LTI con $n$ variabili. $m$ entrate, $p$ uscite (detto MIMO) è data da:  \n",
    "  \n",
    "\\begin{equation}\n",
    "\\boldsymbol{\\dot{x}} = A \\cdot \\boldsymbol{x} + B \\cdot \\boldsymbol{u}\\\\\n",
    "\\boldsymbol{y} = C \\cdot \\boldsymbol{x} + D \\cdot \\boldsymbol{u} \\\\\n",
    "\\end{equation}\n",
    "in cui:\n",
    "- $A$ è una $n \\times n$\n",
    "- $B$ una $n \\times m$\n",
    "- $C$ una $p \\times n$\n",
    "- $D$ una $p \\times m$."
   ]
  },
  {
   "cell_type": "markdown",
   "metadata": {},
   "source": [
    "In un **SISO** $B$ e $C$ sono vettori e $D$ uno scalare. Spesso $D$ vale zero non essendoci un collegamento diretto tra entrata e uscita (feed-through).\n",
    "  \n",
    "La matrice del sistema viene così rappresentata:\n",
    "\\begin{equation}\n",
    "    S = \\left[\n",
    "    \\begin{array}{c|c}\n",
    "      A & B\\\\\n",
    "      \\hline\n",
    "      C & D\n",
    "    \\end{array}\n",
    "    \\right]\n",
    "\\end{equation}"
   ]
  },
  {
   "cell_type": "markdown",
   "metadata": {},
   "source": [
    "#### Trasformazione di variabili di stato\n",
    "È possibile passare ad altre rappresentazioni di stato conoscendo la matrice di trasformazione $P$ che lega le variabili di stato attuali $\\boldsymbol{x}$ con le nuove variabili di stato $\\boldsymbol{z}$ secondo l'applicazione lineare:\n",
    "\\begin{equation}\n",
    "\\boldsymbol{x} = P \\cdot \\boldsymbol{z}\n",
    "\\end{equation}"
   ]
  },
  {
   "cell_type": "markdown",
   "metadata": {},
   "source": [
    "Di conseguenza:\n",
    "\\begin{alignat*}{3}\n",
    "\\boldsymbol{\\dot{z}} & ={} & \\quad (P^{-1} \\cdot A \\cdot P) \\cdot \\boldsymbol{z} & +{} & (P^{-1} \\cdot B) \\cdot \\boldsymbol{u} && \\\\\n",
    "\\boldsymbol{y} & ={} & \\quad (C \\cdot P) \\cdot \\boldsymbol{z}\\ & +{} & D \\cdot \\boldsymbol{u}\n",
    "\\end{alignat*}"
   ]
  },
  {
   "cell_type": "markdown",
   "metadata": {},
   "source": [
    "#### Trasformazione da rappresentazione di stato a equazione differenziale\n",
    "La matrice\n",
    "\\begin{equation}\n",
    "P = {\\begin{pmatrix}\n",
    "q \\\\\n",
    "q \\cdot A_{orig} \\\\\n",
    "\\vdots \\\\\n",
    "q \\cdot A^{n-1}_{orig}\n",
    "\\end{pmatrix}}^{-1}\n",
    "\\end{equation}\n",
    "dove\n",
    "\\begin{equation}\n",
    "q = [0 \\dots 0\\ 1] \\cdot [B_{orig},\\ A_{orig} \\cdot B_{orig},\\ A^2_{orig} \\cdot B_{orig},\\ \\dots,\\ A^{n-1}_{orig} \\cdot B_{orig}]^{-1}\n",
    "\\end{equation}"
   ]
  },
  {
   "cell_type": "markdown",
   "metadata": {},
   "source": [
    "trasforma una rappresentazione di stato qualsiasi nella nuova forma\n",
    "$$\\begin{equation}\n",
    "    S =\\left[\n",
    "    \\begin{array}{c|c}\n",
    "      A & B\\\\\n",
    "      \\hline\n",
    "      C & D\n",
    "    \\end{array}\n",
    "    \\right] = \\left[\n",
    "        \\begin{array}{c|c}\n",
    "         \\begin{matrix}\n",
    "          0 & 1 & 0 & \\dots & 0 \\\\\n",
    "          0 & 0 & 1 & \\dots & 0 \\\\\n",
    "          \\vdots & \\vdots & \\vdots & \\ddots & \\vdots\\\\\n",
    "          0 & 0 & 0 & \\dots & 1 \\\\\n",
    "          -a_0 & -a_1 & -a_2 & \\dots & -a_{n-1}\n",
    "         \\end{matrix} \n",
    "         & \\begin{matrix}\n",
    "            0 \\\\\n",
    "            0 \\\\\n",
    "            \\vdots \\\\\n",
    "            0 \\\\\n",
    "            1\n",
    "         \\end{matrix}\n",
    "         \\\\\n",
    "         \\hline\n",
    "         \\begin{matrix}\n",
    "            b_0\\ \\ & b_1\\ &\\ b_2&\\ \\dots &\\ \\ b_{n-1} \\\\\n",
    "         \\end{matrix} & 0\n",
    "          \\end{array}\n",
    "    \\right]\n",
    "\\end{equation}$$\n"
   ]
  },
  {
   "cell_type": "markdown",
   "metadata": {},
   "source": [
    "Da questa rappresentazione di stato (_controller normal form_) si può risalire direttamente all'equazione differenziale lineare  \n",
    "  \n",
    "\\begin{equation}\n",
    "y^{(n)} + a_{n-1} \\cdot y^{(n-1)} + \\dots + a_1 \\cdot \\dot{y} + a_0 \\cdot y = b_{n-1} \\cdot u^{(n-1)} + \\dots + b_1 \\cdot \\dot{u} + b_0 \\cdot u\n",
    "\\end{equation}"
   ]
  },
  {
   "cell_type": "markdown",
   "metadata": {},
   "source": [
    "#### Trasformazione da equazione differenziale a rappresentazione di stato\n",
    "Si fa il contrario di quanto visto precedentemente."
   ]
  },
  {
   "cell_type": "markdown",
   "metadata": {},
   "source": [
    "### Funzioni di trasferimento\n",
    "#### Trasformazione da equazione differenziale a funzione di trasferimento\n",
    "Data l'ED:\n",
    "\\begin{equation}\n",
    "y^{(n)} + a_{n-1} \\cdot y^{(n-1)} + \\dots + a_1 \\cdot \\dot{y} + a_0 \\cdot y = b_{n-1} \\cdot u^{(n-1)} + \\dots + b_1 \\cdot \\dot{u} + b_0 \\cdot u\n",
    "\\end{equation}\n",
    "trasformando nel dominio di Laplace:\n",
    "\\begin{equation}\n",
    "    \\mathcal{L}(y^{(n)} + a_{n-1} \\cdot y^{(n-1)} + \\dots + a_0 \\cdot y) = \\mathcal{L}(b_{n-1} \\cdot u^{(n-1)} + \\dots + b_0 \\cdot u)\n",
    "\\end{equation}"
   ]
  },
  {
   "cell_type": "markdown",
   "metadata": {},
   "source": [
    "e con condizioni iniziali nulle:\n",
    "\\begin{equation}\n",
    "    \\frac{Y(s)}{U(s)} = \\frac{b_{n-1} \\cdot s^{n-1} + b_{n-2} \\cdot s^{n-2}  + \\dots + b_0}{s^n + a_{n-1} \\cdot s^{n-1} + a_{n-2} \\cdot s^{n-2} + \\dots + a_0} = G(s)\n",
    "\\end{equation}"
   ]
  },
  {
   "cell_type": "markdown",
   "metadata": {},
   "source": [
    "dove con $G(s)$ si indica la funzione di trasferimento. Con condizioni iniziali non nulle otteniamo la forma:  \n",
    "\\begin{equation}\n",
    "  Y(s) = F(s) + G(s) \\cdot U(s)\n",
    "\\end{equation}\n",
    "\n",
    "dove la trasformata di Laplace $F(s)$ della risposta libera ha lo stesso denominatore di $G(s)$ e un numeratore i cui coeficienti sono una combinazione lineare di $y^{(i)}(0)$ e $u^{(i)}(0)$"
   ]
  },
  {
   "cell_type": "markdown",
   "metadata": {},
   "source": [
    "#### Trasformazione da rappresentazione di stato a funzione di trasferimento\n",
    "\\begin{equation}\n",
    "    \\boldsymbol{\\dot{x}} = A \\cdot \\boldsymbol{x} + B \\cdot \\boldsymbol{u}\\\\\n",
    "    \\boldsymbol{y} = C \\cdot \\boldsymbol{x} + D \\cdot \\boldsymbol{u}\n",
    "\\end{equation}"
   ]
  },
  {
   "cell_type": "markdown",
   "metadata": {},
   "source": [
    "con un po' di magia si ottiene:\n",
    "$$\\begin{equation}\n",
    "    Y(s) = C \\cdot (sI - A)^{-1} \\cdot \\boldsymbol{x}(0) + [ C \\cdot (sI - A)^{-1} \\cdot B + D] \\cdot \\boldsymbol{U}(s)\n",
    "\\end{equation}$$"
   ]
  },
  {
   "cell_type": "markdown",
   "metadata": {},
   "source": [
    "dove $$G(s) = [C \\cdot (sI - A)^{-1} \\cdot B + D]$$"
   ]
  },
  {
   "cell_type": "markdown",
   "metadata": {},
   "source": [
    "##### Trasformazione da funzione di trasferimento a equazione differenziale\n",
    "Data una generica funzione di trasferimento:  \n",
    "$$\n",
    "\\begin{equation}\n",
    "G(s) = \\frac{Y(s)}{U(s)} = \\frac{b_{n-1} \\cdot s^{n-1} + b_{n-2} \\cdot s^{n-2} + \\dots b_1 \\cdot s + b_0}{s^n + a_{n-1} \\cdot s^{n-1} + a_{n-2} \\cdot s^{n-2} + \\dots + a_1 \\cdot s + a_0}\n",
    "\\end{equation}$$"
   ]
  },
  {
   "cell_type": "markdown",
   "metadata": {},
   "source": [
    "possiamo portare a sinistra i coefficienti di $Y(s)$ e a destra quelli di $U(s)$ ottenendo:\n",
    "\\begin{equation}\n",
    "    (s^n + a_{n-1} \\cdot s^{n-1} + a_{n-2} \\cdot s^{n-2} + \\dots + a_1 \\cdot s + a_0) \\cdot Y(s) =\n",
    "    (b_{n-1} \\cdot s^{n-1} + b_{n-2} \\cdot s^{n-2} + \\dots + b_1 \\cdot s + b_0) \\cdot U(s)\n",
    "\\end{equation}"
   ]
  },
  {
   "cell_type": "markdown",
   "metadata": {},
   "source": [
    "applicando ora l'antitrasformata di Laplace otteniamo:\n",
    "\\begin{equation}\n",
    "    y^{(n)} + a_{n-1} \\cdot y^{(n-1)} + \\dots + a_1 \\cdot \\dot{y} + a_0 \\cdot y = b_n \\cdot u^{(n)} + b_{n-1} \\cdot u^{(n-1)} + \\dots + b_1 \\cdot \\dot{u} + b_0 \\cdot u\n",
    "\\end{equation}"
   ]
  },
  {
   "cell_type": "markdown",
   "metadata": {},
   "source": [
    "#### Trasformazione da funzione di trasferimento a rappresentazione di stato\n",
    "\\begin{equation}\n",
    "    \\frac{Y(s)}{U(s)} = \\frac{b_{n-1} \\cdot s^{n-1} + b_{n-2} \\cdot s^{n-2} + \\dots b_1 \\cdot s + b_0}{s^n + a_{n-1} \\cdot s^{n-1} + a_{n-2} \\cdot s^{n-2} + \\dots + a_1 \\cdot s + a_0}\n",
    "\\end{equation}\n",
    "\n",
    "diventa\n",
    "\n",
    "$$\\begin{align*}\n",
    "    \\begin{bmatrix}\n",
    "        \\dot{x_1} \\\\\n",
    "        \\dot{x_2} \\\\\n",
    "        \\vdots \\\\\n",
    "        \\dot{x}_{n-1} \\\\\n",
    "        \\dot{x_n}\n",
    "    \\end{bmatrix}\n",
    "    &= \\begin{bmatrix}\n",
    "        0 & 1 & 0 & \\dots & 0 \\\\\n",
    "        0 & 0 & 1 & \\dots & 0 \\\\\n",
    "        \\vdots & \\vdots & \\vdots & \\ddots & \\vdots \\\\\n",
    "        0 & 0 & 0 & \\dots & 1 \\\\\n",
    "        -a_0 & -a_1 & -a_2 & \\dots & -a_{n-1}\n",
    "    \\end{bmatrix}\n",
    "    \\begin{bmatrix}\n",
    "        x_1 \\\\\n",
    "        x_2 \\\\ \n",
    "        \\vdots \\\\\n",
    "        x_{n-1} \\\\\n",
    "        x_n\n",
    "    \\end{bmatrix}\n",
    "    + \\begin{bmatrix}\n",
    "        0 \\\\\n",
    "        0 \\\\\n",
    "        \\vdots \\\\\n",
    "        0 \\\\\n",
    "        1\n",
    "    \\end{bmatrix} \\cdot u(t) \\\\\n",
    "    x(t) &= \\begin{bmatrix}\n",
    "        b_0 & b_1 & \\dots & b_{n-2} & b_{n-1}\n",
    "    \\end{bmatrix}\n",
    "    \\begin{bmatrix}\n",
    "        x_1 \\\\\n",
    "        x_2 \\\\\n",
    "        \\vdots \\\\\n",
    "        x_{n-1} \\\\\n",
    "        x_n\n",
    "    \\end{bmatrix}\n",
    "\\end{align*}$$"
   ]
  },
  {
   "cell_type": "markdown",
   "metadata": {},
   "source": [
    "### Rappresentazione nel dominio del tempo\n",
    "#### Soluzione nel tempo dell'ED\n",
    "$$\\begin{equation}\n",
    "    y^{(n)} + a_{n-1} \\cdot y^{(n-1)} + \\dots + a_1 \\cdot \\dot{y} + a_0 \\cdot y = b_n \\cdot u^{(n)} + b_{n-1} \\cdot u^{(n-1)} + \\dots + b_1 \\cdot \\dot{u} + b_0 \\cdot u\n",
    "\\end{equation}$$\n",
    "è la somma di due soluzioni:\n",
    "- Una omogenea dipendente dallo stato, ma non da $u(t)$\n",
    "- Dalla inomogenea che dipende solo da $u(t)$ ma non dallo stato\n",
    "\n",
    "$$\\begin{equation}\n",
    "y(t) = f(t) + g(t) * u(t)\n",
    "\\end{equation}$$\n",
    "dove \n",
    "- $f(t)$ è chiamata _risposta libera_ e\n",
    "- $g(t) * u(t)$ è chiamata _risposta forzata_.\n",
    "  \n",
    "Se l'entrata è un impulso (ossia $u(t) = \\delta(t)$), la risposta forzata diventa $g(t) * u(t) = g(t)$\n",
    "  "
   ]
  },
  {
   "cell_type": "markdown",
   "metadata": {},
   "source": [
    "Per determinare le soluzioni si sfrutta il cosidetto _polinomio caratteristico dell'equazione differenziale_ che corrisponde:\n",
    "- Al denominatore della funzione di trasferimento del sistema associato all'ED\n",
    "- A $det(s \\cdot I - A)$ dove $A$ è la matrice di stato del sistema nella rappresentazione di stato"
   ]
  },
  {
   "cell_type": "markdown",
   "metadata": {},
   "source": [
    "Determinando le radici $\\lambda$ reali ($\\alpha$) o complesse ($\\sigma \\pm j\\omega$) del pol. caratteristico, le soluzioni della risposta forzata $f(t)$ e della risposta impulsiva $g(t)$ si presentano allora nella forma:  \n",
    "  \n",
    "$$\\begin{equation}\n",
    "\\sum_i \\sum_{n_i} C_{i, n_i} \\cdot t^{n_i} \\cdot e^{\\lambda_i t} = \\sum_i ( C_{i,0} + C_{i,1} \\cdot t + C_{i,2} \\cdot t^2 + \\dots + C_{i,n_i} \\cdot t^{n_i}) \\cdot e^{\\lambda_i t}\n",
    "\\end{equation}$$"
   ]
  },
  {
   "cell_type": "markdown",
   "metadata": {},
   "source": [
    "dove i coefficienti $C$ sono probabilmente complessi e non reali. Gli elementi della sommatoria corrispondenti a radici complesse possono essere rappresentati come funzioni di seni e coseni, portando alla forma  \n",
    "  \n",
    "$$\\begin{equation}\n",
    "    \\sum_i \\sum_{n_i} C_{i,n} \\cdot t^{n_i} \\cdot e^{\\alpha_i t} + \\sum_j ( \\sum_{n_j}(C_{j,n_j} \\cdot \\sin(\\omega_j t) + {C'}_{j,n_j} \\cdot \\cos(\\omega_j t)) \\cdot t^{n_j} \\cdot e^{\\sigma_j t})\n",
    "\\end{equation}$$"
   ]
  },
  {
   "cell_type": "markdown",
   "metadata": {},
   "source": [
    "#### Soluzione nel tempo della rappresentazione di stato\n",
    "La funzione di trasferimento\n",
    "$$\\begin{equation}\n",
    "G_x(s) = \\frac{X(s)}{U(s)} = (sI - A)^{-1} \\cdot B\n",
    "\\end{equation}$$\n",
    "nel tempo diventa:\n",
    "$$\\begin{equation}\n",
    "\\boldsymbol{x}(t) = \\Phi(t) \\cdot \\boldsymbol{x}(0) + g_x(t) * \\boldsymbol{u}(t)\n",
    "\\end{equation}$$\n",
    "dove $$\\begin{equation}\n",
    "\\Phi(t) = \\mathcal{L}^{-1}\\big((sI - A)^{-1}\\big)\n",
    "\\end{equation}$$"
   ]
  },
  {
   "cell_type": "markdown",
   "metadata": {},
   "source": [
    "La prima parte dell'eq. rappresenta la _risposta forzata_ mentre la seconda parte rappresenta la _risposta naturale_ o _risposta della parte omogenea dell'equazione differenziale_. Nel caso di radici del pol. char., risp. gli Aval della matrice di stato, con parte reale negativa, la risposta libera  \n",
    "\n",
    "$$\\begin{equation}\n",
    "f(t) = \\Phi(t) \\cdot \\boldsymbol{x}(0) = e^{A \\cdot t} \\cdot \\boldsymbol{x}(0)\n",
    "\\end{equation}$$\n",
    "  \n",
    "decade nel tempo, e resta quindi unicamente la parte di soluzione non omogenea o forzata ad influenzare il sistema.  \n",
    "  \n",
    "La grandezza $y(t)$ in uscita è:\n",
    "$$\\begin{equation}\n",
    "y(t) = C \\cdot \\Phi(t) \\cdot \\boldsymbol{x}(0) + g(t) * \\boldsymbol{u}(t)\n",
    "\\end{equation}$$"
   ]
  },
  {
   "cell_type": "markdown",
   "metadata": {},
   "source": [
    "... per il resto consultare p. 45 - 50"
   ]
  },
  {
   "cell_type": "markdown",
   "metadata": {},
   "source": [
    "#### Soluzione nel tempo dalla funzione di trasferimento\n",
    "Con la funzione di trasferimento e la trasformata di Laplace $U(s)$ dell'entrata possiamo trovare  \n",
    "\n",
    "$$\\begin{equation}\n",
    "Y(s) = G(s) \\cdot U(s)\n",
    "\\end{equation}$$"
   ]
  },
  {
   "cell_type": "markdown",
   "metadata": {},
   "source": [
    "Ricorda: $\\quad \\mathcal{L}(\\text{grad_unit}(t)) = \\dfrac{1}{s}$"
   ]
  },
  {
   "cell_type": "markdown",
   "metadata": {},
   "source": [
    "$$\\begin{equation}\n",
    "y(t) = \\mathcal{L}^{-1}\\big(G(s) \\cdot U(s)\\big) = g(t) * u(t)\n",
    "\\end{equation}$$"
   ]
  },
  {
   "cell_type": "markdown",
   "metadata": {},
   "source": [
    "#### Soluzione per sistemi di ordine basso\n",
    "Applicando $\\mathcal{L}^{-1}$ per trovare la soluzione di un ED Lineare a coeff. costanti, si vede facilmente come questa viene trovata scomponendo la funzione risultante $Y(s)$ in termini di frazioni parziali e applicando successivamente l'antitrasformata ad ogni singolo elemento. Si può quindi constatare come tutta la funzione $Y(s)$ sia esclusamente composta da elementi di 1° e 2° ordine.\n",
    "\n",
    "##### Soluzione per un sistema lineare di primo ordine\n",
    "Si consideri una funzione di trasferimento del tipo\n",
    "$$\\begin{equation}\n",
    "    G(s) = \\frac{a}{s+a}\n",
    "\\end{equation}$$"
   ]
  },
  {
   "cell_type": "markdown",
   "metadata": {},
   "source": [
    "Questa funzione di trasferimento porta dad un valore finale a transiente finale di valore 1. Con un'entrata di tipo gradino unitario $\\text{grad_unit}(t)$  abbiamo una risposta $y(t)$ pari a\n",
    "$$\\begin{equation}\n",
    "    y(t) = 1-e^{-at}\n",
    "\\end{equation}$$"
   ]
  },
  {
   "cell_type": "markdown",
   "metadata": {},
   "source": [
    "(perché $\\mathcal{L}^{-1}(\\frac{a}{s+a} \\cdot \\frac{1}{s}) = 1 - e^{-at}$)"
   ]
  },
  {
   "cell_type": "markdown",
   "metadata": {},
   "source": [
    "  \n",
    "$\\tau$ è la costante di tempo occorrente per raggiungere il 63% del valore finale.  \n",
    "- Nel caso delle dispense di Bucher, $a = \\frac{1}{\\tau}$\n",
    "- Il tempo di salita $T_r$ (Rise Time) è il tempo necessario al sistema per passare dal $10\\%$ al $90\\%$ del valore finale\n",
    "- Il tempo di setting $T_s$ che è definito come il tempo necessario affinché la risposta resti entro un limite di $\\pm 2\\%$ del valore finale."
   ]
  },
  {
   "cell_type": "markdown",
   "metadata": {},
   "source": [
    "$$\\begin{equation}\n",
    "\\frac{dy(t)}{dt} \\Big\\rvert_{t=0} = \\frac{d}{dt} (1-e^{-at}) = a\n",
    "\\end{equation}$$\n",
    "di conseguenza il valore di $\\tau$ diventa:\n",
    "$$\\begin{equation}\n",
    "1 = a \\tau \\rightarrow \\tau = \\frac{1}{a}\n",
    "\\end{equation}\n",
    "$$"
   ]
  },
  {
   "cell_type": "markdown",
   "metadata": {},
   "source": [
    "Per il calcolo di $T_r$ occorre trovare il tempo per cui la risposta raggiunge il $10\\%$ e il $90\\%$ del valore finale e fare la differenza.  \n",
    "  \n",
    "$$\\begin{equation}\n",
    "y(t_2) = 1 - e^{-at_2} = 0.9 \\rightarrow t_2 = \\frac{\\ln 0.1}{-a} = \\frac{\\ln 10}{a} = \\frac{2.31}{a}\n",
    "\\end{equation}$$\n",
    "\n",
    "$$\\begin{equation}\n",
    "y(t_1) = 1 - e^{-at_1} = 0.1 \\rightarrow t_1 = \\frac{\\ln 0.9}{-a} = \\frac{0.11}{a}\n",
    "\\end{equation}$$"
   ]
  },
  {
   "cell_type": "markdown",
   "metadata": {},
   "source": [
    "Conseguentemente:\n",
    "$$\\begin{equation}\n",
    "    T_r = t_2 - t_1 = \\frac{2.31 - 0.11}{a} = \\frac{2.2}{a}\n",
    "\\end{equation}$$"
   ]
  },
  {
   "cell_type": "markdown",
   "metadata": {},
   "source": [
    "per il calcolo di $T_s$ è sufficiente trovare il valore di $t$ per cui si raggiunge il $98\\%$ del valore finale.\n",
    "$$\\begin{equation}\n",
    "    y(T_s) = 1 - e^{-aT_s} = 0.98 \\rightarrow T_s = \\frac{\\ln 0.02}{-a} = \\frac{\\ln 50}{a} = \\frac{4}{a}\n",
    "\\end{equation}$$"
   ]
  },
  {
   "cell_type": "markdown",
   "metadata": {},
   "source": [
    "##### Soluzione per un sistema lineare di secondo ordine\n",
    "> L'analisi di sistemi di 2° ordine è più complicata di quelli di 1° ordine. Occorre distinguere i quattro casi, a seconda dei poli della funzione di trasferimento.\n",
    "\n",
    "Possiamo analizzare un sistema normato del tipo:\n",
    "$$\\begin{equation}\n",
    "G(s) = \\frac{b}{s^2 + as + b}\n",
    "\\end{equation}$$  \n",
    "che ha il vantaggio di tenere ad $1$ per $t \\rightarrow \\infty$ con entrata di tipo gradino unitario.\n",
    "Modificando i valori di $a$ possiamo ottenere i 4 casi differenti da analizzare.\n",
    "  \n",
    "**Sistema sovrasmorzato** Due poli reali differenti (e.g: $-1.146$ e $-7.854$)\n",
    "  \n",
    "**Sistema sottosmorzato** Due poli complessi (p.es: $-1.5 \\pm j 2.598$)  \n",
    "  \n",
    "**Sistema oscillatorio** Due radici complesse (e.g: $a \\pm j3$)\n",
    "  \n",
    "**Sistema smorzato criticamente** Due poli reali uguali (e.g: $-3$)"
   ]
  },
  {
   "cell_type": "markdown",
   "metadata": {},
   "source": [
    "![Risposta Sistemi](img/damping.png)"
   ]
  },
  {
   "cell_type": "markdown",
   "metadata": {},
   "source": [
    "##### Analisi generali di sistemi di 2° ordine\n",
    "> Un sistema di 2° ordine può essere caratterizzato mediante due grandezze significative: _la frequenza naturale_ $\\omega_n$ e il fattore di smorzamento $\\xi$. La frequenza nnaturale è la frequenza a cui oscillerebbe il sistema non smorzato (undamped).\n",
    "  \n",
    "Il fattore di smorzamento è definito come:\n",
    "$$\\begin{equation}\n",
    "\\xi = \\frac{\\text{freq. decadimento esponenziale}}{\\text{frequenza naturale}}\n",
    "\\end{equation}$$  \n",
    "o anche:  \n",
    "$$\\begin{equation}\n",
    "\\xi = \\frac{1}{2 \\pi} \\frac{\\text{periodo naturale}}{\\text{costante di tempo esponenziale}}\n",
    "\\end{equation}$$"
   ]
  },
  {
   "cell_type": "markdown",
   "metadata": {},
   "source": [
    "La formulazione generale di una funzione di trasferimento di 2° ordine può quindi essere scritta come:  \n",
    "$$\\begin{equation}\n",
    "    G(s) = \\frac{\\omega^2_n}{s^2 + 2 \\xi \\omega_n s + \\omega_n^2}\n",
    "\\end{equation}$$"
   ]
  },
  {
   "cell_type": "markdown",
   "metadata": {},
   "source": [
    "Si consulti la tabella a pagina 58. Molto importante."
   ]
  },
  {
   "cell_type": "markdown",
   "metadata": {},
   "source": [
    "##### Calcolo del tempo di salita\n",
    "$$\\begin{equation}\n",
    "T_r = \\frac{1 - 0.4167 \\xi + 2.917 \\xi^2}{\\omega_n}\n",
    "\\end{equation}$$\n",
    "\n",
    "##### Calcolo del tempo di setting\n",
    "$$\\begin{equation}\n",
    "T_s = \\frac{- \\ln\\big(0.02 \\sqrt{1-\\xi^2}\\big)}{\\xi \\omega_n}\n",
    "\\end{equation}$$\n",
    "\n",
    "##### Calcolo del tempo di massimo overshooting\n",
    "$$\\begin{equation}\n",
    "T_p = \\frac{\\pi}{\\omega_n \\sqrt{1-\\xi^2}}\n",
    "\\end{equation}$$\n",
    "\n",
    "##### Calcolo del valore di %OS\n",
    "$$\\begin{equation}\n",
    "\\%OS = 100 \\cdot \\frac{y_{\\text{max}} - y_{\\text{finale}}}{y_{\\text{finale}}}\n",
    "\\end{equation}$$\n",
    "\n",
    "$$\\begin{equation}\n",
    "\\%OS = 100\\ e^{-\\frac{\\xi \\pi}{\\sqrt{1-\\xi^2}}}\n",
    "\\end{equation}$$\n",
    "\n",
    "##### Calcolo di $\\xi$\n",
    "$$\\begin{equation}\n",
    "\\xi = \\frac{- \\ln\\big(\\frac{\\%OS}{100}\\big)}{\\sqrt{\\pi^2 + \\ln^2\\big(\\frac{\\%OS}{100}\\big)}}\n",
    "\\end{equation}$$"
   ]
  }
 ],
 "metadata": {
  "kernelspec": {
   "display_name": "Python 3",
   "language": "python",
   "name": "python3"
  },
  "language_info": {
   "codemirror_mode": {
    "name": "ipython",
    "version": 3
   },
   "file_extension": ".py",
   "mimetype": "text/x-python",
   "name": "python",
   "nbconvert_exporter": "python",
   "pygments_lexer": "ipython3",
   "version": "3.6.5"
  }
 },
 "nbformat": 4,
 "nbformat_minor": 2
}
