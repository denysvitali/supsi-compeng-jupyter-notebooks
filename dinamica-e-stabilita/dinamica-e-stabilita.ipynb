{
 "cells": [
  {
   "cell_type": "markdown",
   "metadata": {},
   "source": [
    "# Dinamica e stabilità\n",
    "Course Name: C01013.5 - Dinamica e stabilità"
   ]
  },
  {
   "cell_type": "markdown",
   "metadata": {},
   "source": [
    "\\begin{align}\n",
    "ax_1 + bx_2 = \\mu_1 \\\\\n",
    "cx_1 + dx_2 = \\mu_2\n",
    "\\end{align}\n",
    "\n"
   ]
  },
  {
   "cell_type": "markdown",
   "metadata": {},
   "source": [
    "$\\begin{align}\n",
    "x_1 = \\frac{-b}{a} \\cdot x_2 + \\frac{1}{a} \\cdot \\mu_1 \\\\\n",
    "x_2 = \\frac{-c}{d} \\cdot x_1  + \\frac{1}{d} \\cdot \\mu_2 \\\\\n",
    "\\end{align}$"
   ]
  },
  {
   "cell_type": "markdown",
   "metadata": {},
   "source": [
    "## Mason's Gain Formula"
   ]
  },
  {
   "cell_type": "markdown",
   "metadata": {},
   "source": [
    "\\begin{equation}\n",
    "G = \\dfrac{y_{out}}{y_{in}} = \\dfrac{\\sum_{k=1}^N G_k \\Delta_k}{\\Delta}\n",
    "\\end{equation}"
   ]
  },
  {
   "cell_type": "markdown",
   "metadata": {},
   "source": [
    "Dove:  "
   ]
  },
  {
   "cell_type": "markdown",
   "metadata": {},
   "source": [
    "- \\begin{equation}\n",
    "\\Delta = 1 - \\sum L_i + \\sum L_iL_j - \\sum L_iL_jL_k + ... + (-1)^m\\sum ... + ...\n",
    "\\end{equation}"
   ]
  },
  {
   "cell_type": "markdown",
   "metadata": {},
   "source": [
    "- $G_k$ è il percorso di guadagno del k-esimo percorso in avanti fra $y_{in}$ e $y_{out}$"
   ]
  },
  {
   "cell_type": "markdown",
   "metadata": {},
   "source": [
    "- $\\Delta_k$ è il cofattore di $\\Delta$ per il k-esimo percorso, senza i loop che toccano il k-esimo percorso"
   ]
  },
  {
   "cell_type": "markdown",
   "metadata": {},
   "source": [
    "# Lezione 4\n"
   ]
  },
  {
   "cell_type": "markdown",
   "metadata": {},
   "source": [
    "\\begin{equation}\n",
    "\\dot{x}(t) = Ax(t) + Bu(t) \\\\\n",
    "\\dot{y}(t) = Cx(t) + Du(t) \\\\\n",
    "\\end{equation}\n",
    "\n",
    "\\begin{equation}\n",
    "sX(s) - x_0 = AX(s) + BU(s) \\\\\n",
    "sIX(s) - AX(s) = BU(s) + x_0 \\\\\n",
    "(sI - A) \\cdot X(s) = BU(s) + x_0 \\\\\n",
    "X(s) = (sI - A)^{-1} BU(s) + (sI - A)^{-1}\n",
    "\\end{equation}\n",
    "  \n",
    "\\begin{align}\n",
    "Y(s) &= C \\cdot X(s) + DU(s) \\\\\n",
    "Y(s) &= [C(sI-A)^{-1} \\cdot B + D] \\cdot U(s) + C (sI - A)^{-1} x_0\n",
    "\\end{align}"
   ]
  },
  {
   "cell_type": "markdown",
   "metadata": {},
   "source": [
    "$x_1 = y$  \n",
    "$x_2 = \\dot{y}$  \n",
    "$\\dot{x_1} = \\dot{x_2}$  \n",
    "$\\dot{x_2} = -10x_1 - 2x_2 + u(t)$  \n",
    "$y = x_1$"
   ]
  },
  {
   "cell_type": "markdown",
   "metadata": {},
   "source": [
    "## Esempio Fisica"
   ]
  },
  {
   "cell_type": "markdown",
   "metadata": {},
   "source": [
    "# Lezione 7 - Ripasso\n",
    "## Introduzione\n",
    "### 1. Modello matematico del sistema\n",
    "\\begin{cases}\n",
    "m\\ddot{x} = \\sum{F_i} \\\\\n",
    "\\Theta \\ddot{\\varphi} = \\sum{M_i}\n",
    "\\end{cases}\n",
    "\n",
    "Per ogni coordinata devo scrivere un equazione:  \n",
    "\\begin{equation}\n",
    "\\Theta_1 \\ddot{\\varphi_1} = T_1 - k \\cdot \\varphi_1 - d\\dot{\\varphi_1} - k \\cdot \\varphi_2 - d\\dot{\\varphi_2}\n",
    "\\end{equation}\n",
    "\\begin{equation}\n",
    "\\Theta_2 \\ddot{\\varphi_2} = T_2 - k \\cdot \\varphi_2 - d\\dot{\\varphi_2} - k \\cdot \\varphi_1 - d\\dot{\\varphi_1}\n",
    "\\end{equation}"
   ]
  },
  {
   "cell_type": "markdown",
   "metadata": {},
   "source": [
    "Quattro equazioni di primo ordine:  \n",
    "(se ho un sistema di N equazioni posso trasformarlo in N sistemi di equazioni di primo grado)\n",
    "\\begin{cases}\n",
    "\\dot{x} = Ax + Bu \\\\\n",
    "y = Cx + Du\n",
    "\\end{cases}\n",
    "\n",
    "$\\vec{x}$ è il vettore di stato:  \n",
    "\\begin{equation}\n",
    "\\vec{x} = \\begin{bmatrix}\n",
    "\\varphi_1 \\\\\n",
    "\\varphi_2 \\\\\n",
    "\\dot{\\varphi_1} \\\\\n",
    "\\dot{\\varphi_2}\n",
    "\\end{bmatrix}\n",
    "\\end{equation}\n",
    "La grandezza del vettore di stato è pari alla grandezza del sistema di equazioni iniziale.  \n",
    "  \n",
    "$\\vec{u}$ è il vettore degli ingressi, nel nostro caso:\n",
    "\\begin{equation}\n",
    "\\vec{u} = \\begin{bmatrix}\n",
    "I_1 \\\\\n",
    "I_2 \\end{bmatrix}\n",
    "\\end{equation}\n",
    "  \n",
    "$\\vec{y}$ è il vettore delle uscite, nel nostro caso:  \n",
    "\n",
    "\\begin{equation}\n",
    "\\vec{y} = \\begin{bmatrix}\n",
    "\\varphi_1 \\\\\n",
    "\\varphi_2\n",
    "\\end{bmatrix}\n",
    "\\end{equation}  "
   ]
  },
  {
   "cell_type": "markdown",
   "metadata": {},
   "source": [
    "Il sistema diventa quindi: \n",
    "\\begin{cases} \\begin{pmatrix}\n",
    "\\dot{\\varphi_1} \\\\\n",
    "\\dot{\\varphi_2} \\\\\n",
    "\\ddot{\\varphi_1} \\\\\n",
    "\\ddot{\\varphi_2}\n",
    "\\end{pmatrix} = \\begin{pmatrix}\n",
    "0 & 0 & 1 & 0 \\\\\n",
    "0 & 0 & 0 & 1 \\\\\n",
    "\\frac{k}{\\Theta_1} & - \\frac{k}{\\Theta_1} & - \\frac{d}{\\Theta_1} & - \\frac{d}{\\Theta_2} \\\\\n",
    "- \\frac{k}{\\Theta_2} & - \\frac{k}{\\Theta_2} & - \\frac{d}{\\Theta_2} & - \\frac{d}{\\Theta_2} \\\\\n",
    "\\end{pmatrix}\n",
    "\\begin{pmatrix}\n",
    "\\varphi_1 \\\\\n",
    "\\varphi_2 \\\\\n",
    "\\varphi_1 \\\\\n",
    "\\varphi_2\n",
    "\\end{pmatrix} + \\begin{pmatrix}\n",
    "0 & 0 \\\\\n",
    "0 & 0 \\\\\n",
    "\\frac{k_{T_1}}{\\Theta_1} & 0 \\\\\n",
    "0 & \\frac{k_{T_2}}{\\Theta_2}\\\\\n",
    "\\end{pmatrix}\n",
    "\\begin{pmatrix}\n",
    "I_1 \\\\\n",
    "I_2\n",
    "\\end{pmatrix}\n",
    "\\\\\n",
    "\\begin{pmatrix}\n",
    "\\varphi_1 \\\\\n",
    "\\varphi_2\n",
    "\\end{pmatrix} = \\begin{pmatrix}\n",
    "1 & 0 & 0 & 0\\\\\n",
    "0 & 1 & 0 & 0\n",
    "\\end{pmatrix} \\cdot \\begin{pmatrix}\n",
    "\\varphi_1 \\\\\n",
    "\\varphi_2 \\\\\n",
    "\\dot{\\varphi_1} \\\\\n",
    "\\dot{\\varphi_2}\n",
    "\\end{pmatrix}\n",
    "+\n",
    "\\begin{pmatrix}\n",
    "0 & 0 \\\\\n",
    "0 & 0\n",
    "\\end{pmatrix} \\cdot \\begin{pmatrix}\n",
    "I_1 \\\\\n",
    "I_2\n",
    "\\end{pmatrix}\n",
    "\\end{cases}"
   ]
  },
  {
   "cell_type": "markdown",
   "metadata": {},
   "source": [
    "Instabile / Stabile  \n",
    "Autovalori di A $\\leftrightarrow$ Poli  \n"
   ]
  }
 ],
 "metadata": {
  "kernelspec": {
   "display_name": "Octave",
   "language": "octave",
   "name": "octave"
  },
  "language_info": {
   "file_extension": ".m",
   "help_links": [
    {
     "text": "GNU Octave",
     "url": "https://www.gnu.org/software/octave/support.html"
    },
    {
     "text": "Octave Kernel",
     "url": "https://github.com/Calysto/octave_kernel"
    },
    {
     "text": "MetaKernel Magics",
     "url": "https://github.com/calysto/metakernel/blob/master/metakernel/magics/README.md"
    }
   ],
   "mimetype": "text/x-octave",
   "name": "octave",
   "version": "4.2.1"
  }
 },
 "nbformat": 4,
 "nbformat_minor": 2
}
